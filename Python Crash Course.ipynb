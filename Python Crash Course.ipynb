{
 "metadata": {
  "name": "",
  "signature": "sha256:f453f21254cdd57c82db38491aa47a1a7e4baf5c8bf1a4fd18324bdbf1f07a5c"
 },
 "nbformat": 3,
 "nbformat_minor": 0,
 "worksheets": [
  {
   "cells": [
    {
     "cell_type": "markdown",
     "metadata": {},
     "source": [
      "#A Crash Course in Python\n",
      "##Not Your Dad's Programming Language\n",
      "####by Sean McLaughlin\n",
      "\n",
      "Python is a powerful, modern programming language. It's become the industry standard for companies like Google and Dropbox, and is the *lingua franca* in the scientific community. The thing is, python is very much *unlike* most other standard languages, in some subtle ways at least. This leads to otherwise skilled programmers writing very bad python code. Writing slick, clean python code is very easy, if you just know the basics. \n",
      "\n",
      "Let's start with something simple: The Zen of python. Press Shift+Enter to evaluate the cell below."
     ]
    },
    {
     "cell_type": "code",
     "collapsed": false,
     "input": [
      "import this"
     ],
     "language": "python",
     "metadata": {},
     "outputs": [
      {
       "output_type": "stream",
       "stream": "stdout",
       "text": [
        "The Zen of Python, by Tim Peters\n",
        "\n",
        "Beautiful is better than ugly.\n",
        "Explicit is better than implicit.\n",
        "Simple is better than complex.\n",
        "Complex is better than complicated.\n",
        "Flat is better than nested.\n",
        "Sparse is better than dense.\n",
        "Readability counts.\n",
        "Special cases aren't special enough to break the rules.\n",
        "Although practicality beats purity.\n",
        "Errors should never pass silently.\n",
        "Unless explicitly silenced.\n",
        "In the face of ambiguity, refuse the temptation to guess.\n",
        "There should be one-- and preferably only one --obvious way to do it.\n",
        "Although that way may not be obvious at first unless you're Dutch.\n",
        "Now is better than never.\n",
        "Although never is often better than *right* now.\n",
        "If the implementation is hard to explain, it's a bad idea.\n",
        "If the implementation is easy to explain, it may be a good idea.\n",
        "Namespaces are one honking great idea -- let's do more of those!\n"
       ]
      }
     ],
     "prompt_number": 1
    },
    {
     "cell_type": "markdown",
     "metadata": {},
     "source": [
      "A little bit high-and-mighty, and a bit up it's own a$$ for sure, but it gets the motivations of python's creators across. Python could should always be slick, clean and easy to understand. If you're doing something messy and complex, odds are that's because you're not doing it the most pythonic way. There is one key thing to remember when coding in python:\n",
      "\n",
      "###Assume that, at least 95% of the time, the language designers were smarter than you, and that they solved the problem for you already in a better way than you would've.\n",
      "\n",
      "This isn't always true; but it's **mostly** true, especially for a beginner. If you ever have doubts, make sure to check the docs [here](https://docs.python.org/2/). I'll be linking to specific parts thoughout this tutorial. \n",
      "\n",
      "Aside: This tutorial is targeted at someone who has programmed before in another non-python language, and is not meant as an introduction to programming. Maybe some other time. \n",
      "\n",
      "------"
     ]
    },
    {
     "cell_type": "markdown",
     "metadata": {},
     "source": [
      "##Part 0: Why Python Rocks\n",
      "\n",
      "Python isn't like other languages like C or Java. Unlike C or C++ (and like Java) python is an interpreted language. This means that rather than bring the whole file down to 1's and 0's before running it, python calculates everything on the fly. This makes it versatile and trasportable. And unlike Java, C, and almost every other language, python was built from the ground up as object-based. Even your ints and bools are objects (but more on that later). \n",
      "\n",
      "If python is so atypical, you may ask, why has it risen to such prominence? Well:\n",
      "\n",
      " * Python has a small learning curve. It's so easy, even a physicist can understand it.\n",
      " * Python is super duper well documented. Don't underestimate how awesome that is.\n",
      " * It's powerful and versatile. It can be funcitonal, OOP, whatever your heart desires.\n",
      " * Python has *insane* third party support that's easy to use that really fills in the gaps in python's core. \n",
      " \n",
      "Ok fine. But certainly some of these unique attributes have drawbacks? They certainily do. Your next operating system won't be written in python, that's for sure. But for many applications, python's flaws have not held it back. take for example:\n",
      "\n",
      " * A big criticism of python is that it is slow. I believe that a good portion of the time, slow python code can be fixed with a smarter programmer, but these criticisms have some merit. In a lot of situations, a clever python solution will be slower than a brute-force C solution. However, If my python code took twice as long to run, but half as long to write, who's the real winner? A lot of science code only needs to be run a few times, and in many situations the performance gains aren't that noticeable. To this end, there is a lot of interesting work being done in JIT compiled offshoots of python (Julia <3).\n",
      " \n",
      " * Python must be distributed open source. Any python code you publish, anyone can read it and figure out what you did. For publishing the new version of iTunes, this would be bad. But for science applications, this is great; most journals request you submit open source code anyway. And for many companies, like Dropbox, it's run away from the user on serverside.\n",
      " \n",
      "Python is great. It isn't an end all be all, but I bet by the end of this guide it'll be your new favorite. Before moving to the next seciton, let's get the cliche out of the way. Type `print 'hello world'` below press Shift+Enter."
     ]
    },
    {
     "cell_type": "code",
     "collapsed": false,
     "input": [],
     "language": "python",
     "metadata": {},
     "outputs": []
    },
    {
     "cell_type": "markdown",
     "metadata": {},
     "source": [
      "-------\n",
      "##Part 1: Simple Types\n",
      "\n",
      "The best place to start is at the begining. Python does not has simple types, like the C `int` type. Python only has object types, which may seem unusual at first. A full breakdown of the python data model can be found [here](https://docs.python.org/2/reference/datamodel.html), though to be honest it's a bit of a snoozefest. Here's the basics of what you need to know. Python is ***dynamically typed***. Not typing like your keyboard (which I thought for an embaressingly long time), but in the types of it's variables. Variables don't need to be declared in python before their use. The code below is totally valid. Try it!"
     ]
    },
    {
     "cell_type": "code",
     "collapsed": false,
     "input": [
      "#PSST. I'm a comment! I don't affect anything!\n",
      "#These are all 6 of the built-ins in pythonn\n",
      "x =1 #int\n",
      "print x\n",
      "x = 2.2 #float\n",
      "print x\n",
      "x = 10**4L #Long\n",
      "print x\n",
      "x  = 1.0J #complex\n",
      "print x\n",
      "x = 'STRANG' #string\n",
      "print x\n",
      "x = True #bool\n",
      "print x"
     ],
     "language": "python",
     "metadata": {},
     "outputs": [
      {
       "output_type": "stream",
       "stream": "stdout",
       "text": [
        "1\n",
        "2.2\n",
        "10000\n",
        "1j\n",
        "STRANG\n",
        "True\n"
       ]
      }
     ],
     "prompt_number": 2
    },
    {
     "cell_type": "markdown",
     "metadata": {},
     "source": [
      "It's a little eerire at first, but you'll get used to it. It's of course easy to case between these types. Certain operations will automatically cast all members to the most complex type. It's also possible to manually cast them one way or another."
     ]
    },
    {
     "cell_type": "code",
     "collapsed": false,
     "input": [
      "#NOTE this may be too hard to bring up here. Maybe cut out.\n",
      "s= '10'\n",
      "print s\n",
      "y = int(s)\n",
      "print y+10\n",
      "print y*3.0\n",
      "print long(y)"
     ],
     "language": "python",
     "metadata": {},
     "outputs": [
      {
       "output_type": "stream",
       "stream": "stdout",
       "text": [
        "10\n",
        "20\n",
        "30.0\n",
        "10\n"
       ]
      }
     ],
     "prompt_number": 3
    },
    {
     "cell_type": "markdown",
     "metadata": {},
     "source": [
      "There's one other little odd thing about python simples that is worth mentioning. Python simples are **immutable**. The values of the objects cannot be changed. You must be thinking, well that's nonsense. You just added and multiplied them together in the cell above. Well, sort of. Take a look at the below code. "
     ]
    },
    {
     "cell_type": "code",
     "collapsed": false,
     "input": [
      "#the id function returns the address of the variale in memory\n",
      "x = True\n",
      "print 'X is True id:  %d'%id(x)#I'll explain string formatting and printing in a second!\n",
      "x = False\n",
      "print 'X is False id: %d'%id(x)\n",
      "y = False\n",
      "print 'Y is False id: %d'%id(y)"
     ],
     "language": "python",
     "metadata": {},
     "outputs": [
      {
       "output_type": "stream",
       "stream": "stdout",
       "text": [
        "X is True id:  9567760\n",
        "X is False id: 9567328\n",
        "Y is False id: 9567328\n"
       ]
      }
     ],
     "prompt_number": 4
    },
    {
     "cell_type": "markdown",
     "metadata": {},
     "source": [
      "Huh. So `x`'s address changed when it's value is changed from `True` to `False`, but `y` has the same address as `x` when they're both false. What's going on here? Well, both variables are referencing immutable bool objects. After all, bool can only ever be `True` or `False`, so why would you ever need more than 2? The same reasoning applies to other simple types."
     ]
    },
    {
     "cell_type": "code",
     "collapsed": false,
     "input": [
      "x = 1\n",
      "print id(x)\n",
      "x+=1\n",
      "print id(x)\n",
      "print id(2)"
     ],
     "language": "python",
     "metadata": {},
     "outputs": [
      {
       "output_type": "stream",
       "stream": "stdout",
       "text": [
        "13701528\n",
        "13701504\n",
        "13701504\n"
       ]
      }
     ],
     "prompt_number": 5
    },
    {
     "cell_type": "markdown",
     "metadata": {},
     "source": [
      "Python variables don't hold values. Rather, they point to values that are universal. If a value goes out of use, the garbage collector picks it up. It ultimately doesn't affect your code much; you probably never noticed it before. It's just an interesting artifact of how python handles objects on every level. \n",
      "\n",
      "There's one big lesson to take away from this, and that is that ***everything in python is pass by reference***. When everything is pass by reference, it makes things easier. "
     ]
    },
    {
     "cell_type": "markdown",
     "metadata": {},
     "source": [
      "\n",
      "Details on all of python's built-ins can be found [here](https://docs.python.org/2/library/stdtypes.html). I'm going to shy away from droning on about the details of the syntax; what you want to know you can look up there. I'll just make a few key mentions.\n",
      " * Longs have unlimited size (limited only by the size of your memory). If you've never heard of scientific notation, go nuts.\n",
      " * bools' are a subset of integers. When you cast `True` to an `int`, you get `1`. What do you think `False` does?\n",
      " * Most types have an interesting `bool` casting that can be used in control flow. More on that in a bit.\n",
      " * the `is` operator is kinda cool, but it compares memory addresses, not equality. Sometimes this is the same thing and sometimes it's not.\n",
      " \n",
      "###Part 1.1: String Aside\n",
      "\n",
      "Strings are different enought form the numeric types that they warrent a little bit of their own discussion. A string can be created using either double or single quotes. This can be used to insert the other into the string. Escapes are also possible."
     ]
    },
    {
     "cell_type": "code",
     "collapsed": false,
     "input": [
      "print \"I'm a string!\"\n",
      "print 'I\\'m a string too!'"
     ],
     "language": "python",
     "metadata": {},
     "outputs": []
    },
    {
     "cell_type": "markdown",
     "metadata": {},
     "source": [
      "One of the most important things with strings is formatting. This is done using the `%` sign and the right letter. Once again, details [here](https://docs.python.org/2/library/stdtypes.html#string-formatting). Here's a few short examples of printing fancy strings."
     ]
    },
    {
     "cell_type": "code",
     "collapsed": false,
     "input": [
      "print \"Look it's a one: %d\"%1\n",
      "print \"Look it's a one followed by a float 2!: %d, %f\"%(1, 2.0)\n",
      "pi = 3.141592653\n",
      "print \"And finally, pi to 3 digits of precesion is %.3f ya know?\"%pi"
     ],
     "language": "python",
     "metadata": {},
     "outputs": [
      {
       "output_type": "stream",
       "stream": "stdout",
       "text": [
        "Look it's a one: 1\n",
        "Look it's a one followed by a float 2!: 1, 2.000000\n",
        "And finally, pi to 3 digits of precesion is 3.142 ya know?\n"
       ]
      }
     ],
     "prompt_number": 6
    },
    {
     "cell_type": "markdown",
     "metadata": {},
     "source": [
      "One of the really interesting things about python strings is that they're kinda like container types. I'll be going into grave detail about them in the next section, but here's a few examples of some things you can do. I'm also going to use some of the cool string methods/functions. There's a list of them [here](https://docs.python.org/2/library/stdtypes.html#string-methods). There are a **ton** of them and they're really useful. I suggest you familizarize yourself with them. "
     ]
    },
    {
     "cell_type": "code",
     "collapsed": false,
     "input": [
      "s = 'supacalifragilisticexpialidocious'\n",
      "for char in s: #go character by character\n",
      "    print char,\n",
      "print '\\n' #newline\n",
      "    \n",
      "print s[0] #first char\n",
      "print s[-2] #second to last char\n",
      "print s.capitalize()\n",
      "print s.split('i') #remove i's and partition into chunks aroudn them"
     ],
     "language": "python",
     "metadata": {},
     "outputs": [
      {
       "output_type": "stream",
       "stream": "stdout",
       "text": [
        "s u p a c a l i f r a g i l i s t i c e x p i a l i d o c i o u s \n",
        "\n",
        "s\n",
        "u\n",
        "Supacalifragilisticexpialidocious\n",
        "['supacal', 'frag', 'l', 'st', 'cexp', 'al', 'doc', 'ous']\n"
       ]
      }
     ],
     "prompt_number": 7
    },
    {
     "cell_type": "markdown",
     "metadata": {},
     "source": [
      "One important performance note is on concatinating strings. If you are combining many strings together, you should use join instead of `+`. Join is dramatically faster. See [here](http://www.skymind.com/~ocrow/python_string/)."
     ]
    },
    {
     "cell_type": "markdown",
     "metadata": {},
     "source": [
      "###Excercise 1\n",
      "####Answers at the bottom!\n",
      "\n",
      "What is the first digit of `4**16-27`? How about the last?"
     ]
    },
    {
     "cell_type": "code",
     "collapsed": false,
     "input": [],
     "language": "python",
     "metadata": {},
     "outputs": []
    },
    {
     "cell_type": "markdown",
     "metadata": {},
     "source": [
      "------\n",
      "##Part 2: Container Types\n",
      "\n",
      "Now that you know all there is to know about the basics, you can put them places! There are four container types in python:\n",
      " * lists\n",
      " * tuples\n",
      " * sets\n",
      " * dictionaries\n",
      "They have a lot of similarities, but let's break them down one by one.\n",
      "\n",
      "####Lists\n",
      "Lists are like arrays in other languages, but with 2 majors differences.\n",
      "1) They can hold data of any type.\n",
      "They're meant to hold data of the same type, like the names of the files in a directory or data from voltage source. However, they can hold data of any type. Look!"
     ]
    },
    {
     "cell_type": "code",
     "collapsed": false,
     "input": [
      "x = [1,2,3,4,5,6]\n",
      "y = ['potato', 3, True, 89.6]\n",
      "print x, y"
     ],
     "language": "python",
     "metadata": {},
     "outputs": [
      {
       "output_type": "stream",
       "stream": "stdout",
       "text": [
        "[1, 2, 3, 4, 5, 6] ['potato', 3, True, 89.6]\n"
       ]
      }
     ],
     "prompt_number": 8
    },
    {
     "cell_type": "markdown",
     "metadata": {},
     "source": [
      "Just because you can doesn't mean you really should. That sort of thing is best for tuples, which I'll cover next. Still, this is part of the powerful nature of python's dynamic typing. There are performance issues with this, because python has to store the datatype of every element of a list. There are workarounds to this, like in numpy! \n",
      "\n",
      "2) They are dynamically sized.\n",
      "This is **AWESOME**. No more worrying about allocating memory in advance."
     ]
    },
    {
     "cell_type": "code",
     "collapsed": false,
     "input": [
      "x = []\n",
      "x.append(1)\n",
      "print x\n",
      "x.extend([2,3,4])\n",
      "x.append('I LOVE APPENDING')\n",
      "print x"
     ],
     "language": "python",
     "metadata": {},
     "outputs": [
      {
       "output_type": "stream",
       "stream": "stdout",
       "text": [
        "[1]\n",
        "[1, 2, 3, 4, 'I LOVE APPENDING']\n"
       ]
      }
     ],
     "prompt_number": 9
    },
    {
     "cell_type": "markdown",
     "metadata": {},
     "source": [
      "There are also performance costs with this; those are laid out [here](https://wiki.python.org/moin/TimeComplexity) along with the time complexity of a few other operations I'll show you below. \n",
      "\n",
      "As for other regular list stuff, check out the examples below. The rest of the list functions are [here](https://docs.python.org/2/tutorial/datastructures.html). As per my usual shpeal, there are many and they are awesome."
     ]
    },
    {
     "cell_type": "code",
     "collapsed": false,
     "input": [
      "arr = [1,8,2,-1, 37,140, -1]\n",
      "print arr[1] #access the second element\n",
      "print arr[1:4]#this is slicing. It cuts the array from the second to the 4th element\n",
      "print len(arr)# get the array's length\n",
      "arr.sort() #sort the array in place\n",
      "print arr\n",
      "arr.remove(1)#remove the first element valued 1\n",
      "print arr"
     ],
     "language": "python",
     "metadata": {},
     "outputs": [
      {
       "output_type": "stream",
       "stream": "stdout",
       "text": [
        "8\n",
        "[8, 2, -1]\n",
        "7\n",
        "[-1, -1, 1, 2, 8, 37, 140]\n",
        "[-1, -1, 2, 8, 37, 140]\n"
       ]
      }
     ],
     "prompt_number": 10
    },
    {
     "cell_type": "markdown",
     "metadata": {},
     "source": [
      "We'll be revisiting lists in a bit after we cover control flow structures. They're pretty integral to the layout of `for` loops.\n",
      "\n",
      "####Tuples\n",
      "\n",
      "Tuples are...weird. They are a lot like lists in a lot of ways,except for one major one."
     ]
    },
    {
     "cell_type": "code",
     "collapsed": false,
     "input": [
      "tup = (1,2,3,4,5)\n",
      "print tup[0] #1st elem\n",
      "print len(tup) #length\n",
      "tup[0] = -1#modify"
     ],
     "language": "python",
     "metadata": {},
     "outputs": [
      {
       "output_type": "stream",
       "stream": "stdout",
       "text": [
        "1\n",
        "5\n"
       ]
      },
      {
       "ename": "TypeError",
       "evalue": "'tuple' object does not support item assignment",
       "output_type": "pyerr",
       "traceback": [
        "\u001b[1;31m---------------------------------------------------------------------------\u001b[0m\n\u001b[1;31mTypeError\u001b[0m                                 Traceback (most recent call last)",
        "\u001b[1;32m<ipython-input-11-79ddfd298378>\u001b[0m in \u001b[0;36m<module>\u001b[1;34m()\u001b[0m\n\u001b[0;32m      2\u001b[0m \u001b[1;32mprint\u001b[0m \u001b[0mtup\u001b[0m\u001b[1;33m[\u001b[0m\u001b[1;36m0\u001b[0m\u001b[1;33m]\u001b[0m \u001b[1;31m#1st elem\u001b[0m\u001b[1;33m\u001b[0m\u001b[0m\n\u001b[0;32m      3\u001b[0m \u001b[1;32mprint\u001b[0m \u001b[0mlen\u001b[0m\u001b[1;33m(\u001b[0m\u001b[0mtup\u001b[0m\u001b[1;33m)\u001b[0m \u001b[1;31m#length\u001b[0m\u001b[1;33m\u001b[0m\u001b[0m\n\u001b[1;32m----> 4\u001b[1;33m \u001b[0mtup\u001b[0m\u001b[1;33m[\u001b[0m\u001b[1;36m0\u001b[0m\u001b[1;33m]\u001b[0m \u001b[1;33m=\u001b[0m \u001b[1;33m-\u001b[0m\u001b[1;36m1\u001b[0m\u001b[1;31m#modify\u001b[0m\u001b[1;33m\u001b[0m\u001b[0m\n\u001b[0m",
        "\u001b[1;31mTypeError\u001b[0m: 'tuple' object does not support item assignment"
       ]
      }
     ],
     "prompt_number": 11
    },
    {
     "cell_type": "markdown",
     "metadata": {},
     "source": [
      "`'tuple' object does not support item assignment`.\n",
      "Tuples differ from lists in that tuples are **immutable**. Once they're set, they can't be changed. This may seem a little bit odd at first, but there are reasons for this. Tuples are not supposed to be homogenous sequences like lists; there are heterogenous. Each element represents a different idea, like cartesian coordinates. Their unique properties also give them unique roles in:\n",
      " * They are hashable, so they can be used as keys for dicts or sets (see that in a sec)\n",
      " * They can be used to have functions return multiple values at once (see that in 2 secs)\n",
      " * Tuple unpacking is crazy cool.\n",
      " \n",
      "The last one I want to elaborate on. Python, as it runs, evalutates comma separated things as tuples automagically. "
     ]
    },
    {
     "cell_type": "code",
     "collapsed": false,
     "input": [
      "x = 1,2,3,4,5\n",
      "print x\n",
      "print type(x)"
     ],
     "language": "python",
     "metadata": {},
     "outputs": [
      {
       "output_type": "stream",
       "stream": "stdout",
       "text": [
        " (1, 2, 3, 4, 5)\n",
        "<type 'tuple'>\n"
       ]
      }
     ],
     "prompt_number": 13
    },
    {
     "cell_type": "markdown",
     "metadata": {},
     "source": [
      "This also works in reverse. You can assign to individual elements of a tuple."
     ]
    },
    {
     "cell_type": "code",
     "collapsed": false,
     "input": [
      "a,b,c,d,e = x\n",
      "print a,b,c,d+e"
     ],
     "language": "python",
     "metadata": {},
     "outputs": [
      {
       "output_type": "stream",
       "stream": "stdout",
       "text": [
        "1 2 3 9\n"
       ]
      }
     ],
     "prompt_number": 14
    },
    {
     "cell_type": "markdown",
     "metadata": {},
     "source": [
      "By combinging these 2 effects you encounter something truly unique. In other languages, variable swapping takes a 3rd temp variable like so:"
     ]
    },
    {
     "cell_type": "code",
     "collapsed": false,
     "input": [
      "a = 1\n",
      "b =2\n",
      "tmp = a\n",
      "a = b\n",
      "b = tmp\n",
      "print a,b"
     ],
     "language": "python",
     "metadata": {},
     "outputs": [
      {
       "output_type": "stream",
       "stream": "stdout",
       "text": [
        "2 1\n"
       ]
      }
     ],
     "prompt_number": 15
    },
    {
     "cell_type": "markdown",
     "metadata": {},
     "source": [
      "Python says no more! One line variable swaps!"
     ]
    },
    {
     "cell_type": "code",
     "collapsed": false,
     "input": [
      "a, b = 1,2\n",
      "#GAHHHHHHH\n",
      "b,a = a,b\n",
      "print a,b"
     ],
     "language": "python",
     "metadata": {},
     "outputs": [
      {
       "output_type": "stream",
       "stream": "stdout",
       "text": [
        "2 1\n"
       ]
      }
     ],
     "prompt_number": 16
    },
    {
     "cell_type": "markdown",
     "metadata": {},
     "source": [
      "If that isn't some of the coolest stuff you've ever seen get out of my face.\n",
      "####Sets\n",
      "\n",
      "Sets behave exactly like logical sets. "
     ]
    },
    {
     "cell_type": "code",
     "collapsed": false,
     "input": [
      "a = set([1,2,3])\n",
      "b = set([3,4,5])\n",
      "print a | b #a U b\n",
      "print a & b # a intersect b\n",
      "print a-b #a-b\n",
      "a.add(1) #add an element already in a\n",
      "print a #duplicates not allowed"
     ],
     "language": "python",
     "metadata": {},
     "outputs": [
      {
       "output_type": "stream",
       "stream": "stdout",
       "text": [
        "set([1, 2, 3, 4, 5])\n",
        "set([3])\n",
        "set([1, 2])\n",
        "set([1, 2, 3])\n"
       ]
      }
     ],
     "prompt_number": 17
    },
    {
     "cell_type": "markdown",
     "metadata": {},
     "source": [
      "Sets can only store immutable objects. This means you can't store a list, but you can store a tuple. This is because sets are ***hash driven***. The details of how that works aren't too important, just remember that immutable objects are the only type that are hashable. \n",
      "\n",
      "The number one important thing about sets is that they have constant time membership checks. Check out below."
     ]
    },
    {
     "cell_type": "code",
     "collapsed": false,
     "input": [
      "for n in xrange(1,7):#We're doing control flow structures next!\n",
      "    N = 10**n\n",
      "    print 'Membership is size %d'%N\n",
      "    l = range(N)#make a list of size N\n",
      "    s = set(l) #note that the creation of a set is O(N), so you need to be careful about how you do it.\n",
      "    print 'List:'\n",
      "    #I'm usign some ipython magic here; i'll get to those later too.\n",
      "    %timeit N/2 in l#check membership\n",
      "    print 'Set:'\n",
      "    %timeit N/2 in s#check membership\n",
      "    print '_'*20\n",
      "    "
     ],
     "language": "python",
     "metadata": {},
     "outputs": [
      {
       "output_type": "stream",
       "stream": "stdout",
       "text": [
        "Membership is size 10\n",
        "List:\n",
        "10000000 loops, best of 3: 74.4 ns per loop"
       ]
      },
      {
       "output_type": "stream",
       "stream": "stdout",
       "text": [
        "\n",
        "Set:\n",
        "10000000 loops, best of 3: 55.3 ns per loop"
       ]
      },
      {
       "output_type": "stream",
       "stream": "stdout",
       "text": [
        "\n",
        "____________________\n",
        "Membership is size 100\n",
        "List:\n",
        "1000000 loops, best of 3: 321 ns per loop"
       ]
      },
      {
       "output_type": "stream",
       "stream": "stdout",
       "text": [
        "\n",
        "Set:\n",
        "10000000 loops, best of 3: 55.4 ns per loop"
       ]
      },
      {
       "output_type": "stream",
       "stream": "stdout",
       "text": [
        "\n",
        "____________________\n",
        "Membership is size 1000\n",
        "List:\n",
        "100000 loops, best of 3: 2.7 \u00b5s per loop"
       ]
      },
      {
       "output_type": "stream",
       "stream": "stdout",
       "text": [
        "\n",
        "Set:\n",
        "10000000 loops, best of 3: 68.9 ns per loop"
       ]
      },
      {
       "output_type": "stream",
       "stream": "stdout",
       "text": [
        "\n",
        "____________________\n",
        "Membership is size 10000\n",
        "List:\n",
        "10000 loops, best of 3: 26.7 \u00b5s per loop"
       ]
      },
      {
       "output_type": "stream",
       "stream": "stdout",
       "text": [
        "\n",
        "Set:\n",
        "10000000 loops, best of 3: 66.4 ns per loop"
       ]
      },
      {
       "output_type": "stream",
       "stream": "stdout",
       "text": [
        "\n",
        "____________________\n",
        "Membership is size 100000\n",
        "List:\n",
        "1000 loops, best of 3: 271 \u00b5s per loop"
       ]
      },
      {
       "output_type": "stream",
       "stream": "stdout",
       "text": [
        "\n",
        "Set:\n",
        "10000000 loops, best of 3: 68.2 ns per loop"
       ]
      },
      {
       "output_type": "stream",
       "stream": "stdout",
       "text": [
        "\n",
        "____________________\n",
        "Membership is size 1000000\n",
        "List:\n",
        "100 loops, best of 3: 3.62 ms per loop"
       ]
      },
      {
       "output_type": "stream",
       "stream": "stdout",
       "text": [
        "\n",
        "Set:\n",
        "10000000 loops, best of 3: 66 ns per loop"
       ]
      },
      {
       "output_type": "stream",
       "stream": "stdout",
       "text": [
        "\n",
        "____________________\n"
       ]
      }
     ],
     "prompt_number": 18
    },
    {
     "cell_type": "markdown",
     "metadata": {},
     "source": [
      "This is an insanely useful feature and I reccomend you think of ways to use it in your code wherever you can to increase peformance. \n",
      "\n",
      "####Dictionaries\n",
      "\n",
      "Dictionaries are python's best data structure; even the language designers have said so. They're like set's older, better brother. Dictionaries are a mapping type, so they pair a key to a value. The key must be immutable, but values need not be. They have a variety of uses, like binning or counting"
     ]
    },
    {
     "cell_type": "code",
     "collapsed": false,
     "input": [
      "#counting\n",
      "colors = ['red', 'yellow', 'cyan', 'red', 'green', 'green', 'blue', 'red', 'black']\n",
      "colorDict = {}\n",
      "for color in colors:\n",
      "    if color not in colorDict: #O(1) membership checks\n",
      "        colorDict[color] = 0\n",
      "    colorDict[color]+=1\n",
      "print colorDict\n",
      "print colorDict['red']\n",
      "\n",
      "#binning\n",
      "divDict= {} #dictionary of the smallest prime factor of a number.\n",
      "from math import sqrt #I'll show off imports later\n",
      "for n in xrange(1,10**3):#iterate from 1 to 10000\n",
      "    for d in xrange(2, int(sqrt(n))+1):#iterate from 2 to sqrt(N) in the denominator\n",
      "        result = n/float(d)\n",
      "        if int(result) == result: #it's an int\n",
      "            if d not in divDict: #initialize the dict\n",
      "                divDict[d] = []\n",
      "            divDict[d].append(n)\n",
      "            break\n",
      "print divDict.keys()\n",
      "print divDict[31],divDict[11]\n",
      "\n",
      "#Making a simple pseudo object\n",
      "person = {}\n",
      "person['Name'] = 'Sean'\n",
      "person['Height'] = 6.166 #feet\n",
      "person['Eye Color'] = 'blue'\n",
      "print person"
     ],
     "language": "python",
     "metadata": {},
     "outputs": [
      {
       "output_type": "stream",
       "stream": "stdout",
       "text": [
        "{'blue': 1, 'yellow': 1, 'green': 2, 'cyan': 1, 'red': 3, 'black': 1}\n",
        "3\n",
        "[2, 3, 5, 7, 11, 13, 17, 19, 23, 29, 31]\n",
        "[961] [121, 143, 187, 209, 253, 319, 341, 407, 451, 473, 517, 583, 649, 671, 737, 781, 803, 869, 913, 979]\n",
        "{'Eye Color': 'blue', 'Name': 'Sean', 'Height': 6.166}\n"
       ]
      }
     ],
     "prompt_number": 19
    },
    {
     "cell_type": "markdown",
     "metadata": {},
     "source": [
      "Dicts are also just useful to treat like arrays, but with keys that aren't easily encoded as ints. Use them often.\n",
      "\n",
      "###Excercise 2\n",
      "####Answers at the bottom\n",
      "Using the dictionary below, print 'Hello World' in the ICAO alphabet. Can you generalize it to any message?"
     ]
    },
    {
     "cell_type": "code",
     "collapsed": false,
     "input": [
      "d = {'a':'alfa', 'b':'bravo', 'c':'charlie', 'd':'delta', 'e':'echo', 'f':'foxtrot',\n",
      "     'g':'golf', 'h':'hotel', 'i':'india', 'j':'juliett', 'k':'kilo', 'l':'lima',\n",
      "     'm':'mike', 'n':'november', 'o':'oscar', 'p':'papa', 'q':'quebec', 'r':'romeo',\n",
      "     's':'sierra', 't':'tango', 'u':'uniform', 'v':'victor', 'w':'whiskey', \n",
      "     'x':'x-ray', 'y':'yankee', 'z':'zulu'}\n",
      "\n",
      "#your code here\n",
      "#HINT You'll need a for loop. If you'd like, read ahead and come back."
     ],
     "language": "python",
     "metadata": {},
     "outputs": []
    },
    {
     "cell_type": "markdown",
     "metadata": {},
     "source": [
      "-----\n",
      "##Part 3: Control Flow Structures and Iterators\n",
      "Now that we know about the data, let's do stuff with it conditionally. In python, we have da boys in control flow:\n",
      " * if\n",
      " * else and elif\n",
      " * while\n",
      " * for\n",
      " \n",
      "There is not, however, a case/switch statement in python. I'm not sure exactly why, but it was proposed and rejected. It's very possible to combine dictionaries and functions to do so. \n",
      "\n",
      "For the most part, the first 3 behave as you'd expect. For is a little different than in other languages, and deserves more time. Before going into detail on each though, there is one important general comment. \n",
      "\n",
      "For most other languages, blocks of code are set off from others by brackets. In python this is instead done with *whitespace*. Namespaces are set off by tabs (actually, the python style guide specifies 4 spaces. Adjust your text editor for that). It forces pretty looking code. How great is that?\n",
      "\n",
      "####If, else and elif\n",
      "All three work like you'd expect them to work. If the statement evaluates to true, move into the block, else keep going. Example below."
     ]
    },
    {
     "cell_type": "code",
     "collapsed": false,
     "input": [
      "for i in xrange(10):\n",
      "    if i ==2:\n",
      "        print 'It\\'s 2!'\n",
      "    elif i==6:\n",
      "        print 'It\\'s 6!'\n",
      "    else:\n",
      "        print 'It isn\\'t either!'"
     ],
     "language": "python",
     "metadata": {},
     "outputs": []
    },
    {
     "cell_type": "markdown",
     "metadata": {},
     "source": [
      "The one thing worth mentioning is that if,else,elif and while all evaluate an object's `bool()` method. Certain objects have interesting bools, which can be put to use. For example, an empty list is false, but anything else is true.  "
     ]
    },
    {
     "cell_type": "code",
     "collapsed": false,
     "input": [
      "shoppingList = ['milk','eggs','beer','tofu','beer']\n",
      "print bool(shoppingList)\n",
      "if shoppingList:\n",
      "    print 'Still need more things'\n",
      "else:\n",
      "    print 'We\\'re done!'\n",
      "print bool([])"
     ],
     "language": "python",
     "metadata": {},
     "outputs": []
    },
    {
     "cell_type": "markdown",
     "metadata": {},
     "source": [
      "One little aside if that if and else can be used for some elegant assignment/ return statements."
     ]
    },
    {
     "cell_type": "code",
     "collapsed": false,
     "input": [
      "n = 68\n",
      "evenOrOdd = 'Even' if n%2==0 else 'Odd'\n",
      "print evenOrOdd"
     ],
     "language": "python",
     "metadata": {},
     "outputs": []
    },
    {
     "cell_type": "markdown",
     "metadata": {},
     "source": [
      "####While\n",
      "While works just like you'd expect. It continues the loop while the bool expression at it's top continues to be true."
     ]
    },
    {
     "cell_type": "code",
     "collapsed": false,
     "input": [
      "while shoppingList:\n",
      "    print shoppingList.pop()"
     ],
     "language": "python",
     "metadata": {},
     "outputs": []
    },
    {
     "cell_type": "markdown",
     "metadata": {},
     "source": [
      "I'll take the time to mention a few other keywords that work for looping functions, like while and for. The 2 keywords are `break` and `continue`. \n",
      "Break exits the loop.\n",
      "Continue skips to the next iteration."
     ]
    },
    {
     "cell_type": "code",
     "collapsed": false,
     "input": [
      "shoppingList = ['tofu','milk','eggs','beer','beer']\n",
      "bought = set()\n",
      "vegetarian = False\n",
      "while shoppingList:\n",
      "    item = shoppingList.pop()\n",
      "    if item == 'tofu' and not vegetarian:\n",
      "        break\n",
      "    if item in bought: #don't buy again\n",
      "        continue\n",
      "    bought.add(item)\n",
      "    print bought"
     ],
     "language": "python",
     "metadata": {},
     "outputs": [
      {
       "output_type": "stream",
       "stream": "stdout",
       "text": [
        "set(['beer'])\n",
        "set(['beer', 'eggs'])\n",
        "set(['beer', 'eggs', 'milk'])\n"
       ]
      }
     ],
     "prompt_number": 20
    },
    {
     "cell_type": "markdown",
     "metadata": {},
     "source": [
      "####For\n",
      "For loops are possibly part of the 5% of the time python's deisgners messed up. The problem isn't in the implementation; it's powerful and works well. The problem is the name. \n",
      "**For should've been called for each.**\n",
      "The way a C programmer would iterate over a loop is like this:"
     ]
    },
    {
     "cell_type": "code",
     "collapsed": false,
     "input": [
      "shoppingList = ['tofu','milk','eggs','beer','beer']\n",
      "for i in range(len(shoppingList)):\n",
      "    print shoppingList[i]"
     ],
     "language": "python",
     "metadata": {},
     "outputs": [
      {
       "output_type": "stream",
       "stream": "stdout",
       "text": [
        "tofu\n",
        "milk\n",
        "eggs\n",
        "beer\n",
        "beer\n"
       ]
      }
     ],
     "prompt_number": 21
    },
    {
     "cell_type": "markdown",
     "metadata": {},
     "source": [
      "This is bad code. All of that work has been implemented for you already under python's hood. The better way would be to do this:"
     ]
    },
    {
     "cell_type": "code",
     "collapsed": false,
     "input": [
      "for item in shoppingList:\n",
      "    print item"
     ],
     "language": "python",
     "metadata": {},
     "outputs": [
      {
       "output_type": "stream",
       "stream": "stdout",
       "text": [
        "tofu\n",
        "milk\n",
        "eggs\n",
        "beer\n",
        "beer\n"
       ]
      }
     ],
     "prompt_number": 22
    },
    {
     "cell_type": "markdown",
     "metadata": {},
     "source": [
      "It's faster and more readable. If you really need the index, there's another, faster way. Here's an example of that, along with a few other functions that make iterating over lists easier."
     ]
    },
    {
     "cell_type": "code",
     "collapsed": false,
     "input": [
      "for idx, item in enumerate(shoppingList):\n",
      "    print idx, item\n",
      "print '_'*20\n",
      "for item in sorted(shoppingList):\n",
      "    print item\n",
      "print '_'*20\n",
      "for item in reversed(shoppingList):\n",
      "    print item\n",
      "print '_'*20\n",
      "otherList = ['steak', 'buns', 'ketchup', 'coffee']\n",
      "for other, item in zip(otherList, shoppingList):#combine 2 lists and iteratte together\n",
      "    print other, item"
     ],
     "language": "python",
     "metadata": {},
     "outputs": [
      {
       "output_type": "stream",
       "stream": "stdout",
       "text": [
        "0 tofu\n",
        "1 milk\n",
        "2 eggs\n",
        "3 beer\n",
        "4 beer\n",
        "____________________\n",
        "beer\n",
        "beer\n",
        "eggs\n",
        "milk\n",
        "tofu\n",
        "____________________\n",
        "beer\n",
        "beer\n",
        "eggs\n",
        "milk\n",
        "tofu\n",
        "____________________\n",
        "steak tofu\n",
        "buns milk\n",
        "ketchup eggs\n",
        "coffee beer\n"
       ]
      }
     ],
     "prompt_number": 23
    },
    {
     "cell_type": "markdown",
     "metadata": {},
     "source": [
      "The `continue` and `break` keywords I mentioend above also work with `for`. `for` also has an `else` clause, which is poorly named. It'd be better titled \"no break.\" It activates if the for loop exits its iteration normally."
     ]
    },
    {
     "cell_type": "code",
     "collapsed": false,
     "input": [
      "for item in shoppingList:\n",
      "    if item == 'spinach':\n",
      "        print 'EWWWW'\n",
      "        break\n",
      "else:\n",
      "    print 'HOORAY'"
     ],
     "language": "python",
     "metadata": {},
     "outputs": [
      {
       "output_type": "stream",
       "stream": "stdout",
       "text": [
        "HOORAY\n"
       ]
      }
     ],
     "prompt_number": 24
    },
    {
     "cell_type": "markdown",
     "metadata": {},
     "source": [
      "I mentioned earlier that `for` is integral to some of the cooler parts of lists and dicts. Welcome to the world of list and dict comprehension, where we can build lists and dicts on the fly with `for`. It's fast, elegant and easy."
     ]
    },
    {
     "cell_type": "code",
     "collapsed": false,
     "input": [
      "sqs = [x**2 for x in xrange(10)]\n",
      "sqDict = {x:x**2 for x in xrange(10)}\n",
      "\n",
      "listOfLists = [[] for i in xrange(10)]\n",
      "listOfLists[0].append(1)\n",
      "print sqs\n",
      "print sqDict\n",
      "print listOfLists"
     ],
     "language": "python",
     "metadata": {},
     "outputs": [
      {
       "output_type": "stream",
       "stream": "stdout",
       "text": [
        "[0, 1, 4, 9, 16, 25, 36, 49, 64, 81]\n",
        "{0: 0, 1: 1, 2: 4, 3: 9, 4: 16, 5: 25, 6: 36, 7: 49, 8: 64, 9: 81}\n",
        "[[1], [], [], [], [], [], [], [], [], []]\n"
       ]
      }
     ],
     "prompt_number": 25
    },
    {
     "cell_type": "markdown",
     "metadata": {},
     "source": [
      "####Iterators\n",
      "Also tightly connected with `for` loops is iterator objects. The under the hood details are a little complex, but they are essentially memory efficient ways to step over objects. You may have noticed me using `range` and `xrange` above. What's the difference? `xrange` is an iterator. It's poorly named, for sure, but you should **always** use it with loops. `range` generates the entire list in memory all at once. Take a look at the code below."
     ]
    },
    {
     "cell_type": "code",
     "collapsed": false,
     "input": [
      "from sys import getsizeof\n",
      "for ex in xrange(6):\n",
      "    listSize = getsizeof(range(10**ex))\n",
      "    xrangeSize = getsizeof(xrange(10**ex))\n",
      "    print 'N :%d\\tIter Size (bytes): %d\\t List Size (bytes): %d'%(10**ex,xrangeSize, listSize)"
     ],
     "language": "python",
     "metadata": {},
     "outputs": [
      {
       "output_type": "stream",
       "stream": "stdout",
       "text": [
        "N :1\tIter Size (bytes): 40\t List Size (bytes): 80\n",
        "N :10\tIter Size (bytes): 40\t List Size (bytes): 152\n",
        "N :100\tIter Size (bytes): 40\t List Size (bytes): 872\n",
        "N :1000\tIter Size (bytes): 40\t List Size (bytes): 8072\n",
        "N :10000\tIter Size (bytes): 40\t List Size (bytes): 80072\n",
        "N :100000\tIter Size (bytes): 40\t List Size (bytes): 800072\n"
       ]
      }
     ],
     "prompt_number": 26
    },
    {
     "cell_type": "markdown",
     "metadata": {},
     "source": [
      "Iterators make an apperance in a lot of places in python, and you should use them wherever you find them. Take for example, the `items` and `iteritems` dictionary methods. If you are simply iterating over a dictionary, `iteritems` is a better, faster choice. However, if you are **modifying** the dict, though, you should use `items`. It generates a copy, which is more expensive, but if you attempt to modify something while you are iterating over it **you are living in a state of sin and you deserve what happens to you.**"
     ]
    },
    {
     "cell_type": "code",
     "collapsed": false,
     "input": [
      "sqDict = {x:x**2 for x in xrange(10)}\n",
      "for val, valSq in sqDict.iteritems():\n",
      "    print val, valSq"
     ],
     "language": "python",
     "metadata": {},
     "outputs": []
    },
    {
     "cell_type": "markdown",
     "metadata": {},
     "source": [
      "###Excercise 3\n",
      "####Answers at the bottom!\n",
      "Create a list of all numbers under 10,000 divisible by both 3 and 5. Then, find it's sum. You may find the `%`(modulus) operator useful."
     ]
    },
    {
     "cell_type": "code",
     "collapsed": false,
     "input": [],
     "language": "python",
     "metadata": {},
     "outputs": []
    },
    {
     "cell_type": "markdown",
     "metadata": {},
     "source": [
      "-----\n",
      "##Part 4: Functions\n",
      "Creating functions in python is very easy and simple. All you need is the `def` keyword, and possibly `return`."
     ]
    },
    {
     "cell_type": "code",
     "collapsed": false,
     "input": [
      "def print1():\n",
      "    print 1\n",
      "    \n",
      "def return1():\n",
      "    return 1\n",
      "\n",
      "print1()\n",
      "x =return1()\n",
      "print x"
     ],
     "language": "python",
     "metadata": {},
     "outputs": []
    },
    {
     "cell_type": "markdown",
     "metadata": {},
     "source": [
      "You do not need to define the type of returns a function gives. In fact, you can make a function that returns any type, and any number of results."
     ]
    },
    {
     "cell_type": "code",
     "collapsed": false,
     "input": [
      "def bananas(val):\n",
      "    if val%2 == 0:\n",
      "        return True\n",
      "    elif val%3 == 0:\n",
      "        return 1,2.0\n",
      "    else:\n",
      "        return 'GAH'\n",
      "    \n",
      "print bananas(6)\n",
      "print bananas(9)\n",
      "print bananas(7)"
     ],
     "language": "python",
     "metadata": {},
     "outputs": []
    },
    {
     "cell_type": "markdown",
     "metadata": {},
     "source": [
      "Another great feature of function is default arguments. You can write a function that had default values, or use keywords  to specify specific ones. "
     ]
    },
    {
     "cell_type": "code",
     "collapsed": false,
     "input": [
      "def printValue(value, nTimes = 2):\n",
      "    for n in xrange(nTimes):\n",
      "        print value\n",
      "\n",
      "printValue(2, 3)\n",
      "printValue(3,nTimes = 1)\n",
      "printValue(value = 6) #use the default value here"
     ],
     "language": "python",
     "metadata": {},
     "outputs": []
    },
    {
     "cell_type": "markdown",
     "metadata": {},
     "source": [
      "Passing around functions refs is easy too. Check this out."
     ]
    },
    {
     "cell_type": "code",
     "collapsed": false,
     "input": [
      "def addOne(val):\n",
      "    return val+1\n",
      "\n",
      "def addTwo(val):\n",
      "    return val+2\n",
      "\n",
      "myVal = 16\n",
      "myFunc = addOne if myVal%2==1 else addTwo\n",
      "myFunc(myVal)"
     ],
     "language": "python",
     "metadata": {},
     "outputs": []
    },
    {
     "cell_type": "markdown",
     "metadata": {},
     "source": [
      "####Aside: Anonymous functions\n",
      "Python also has included an artifact from functional programming days. The keyword `lambda` creates an anonymous, oneline function. There have a variety of uses, but I like using them to make easy key functions. "
     ]
    },
    {
     "cell_type": "code",
     "collapsed": false,
     "input": [
      "d = {'red': 10, 'blue': 8, 'green':2, 'orange':19}\n",
      "sortedVal = sorted(d.iteritems(), key = lambda x: x[1]) #sort by the second val in the tuple.\n",
      "alphaVal = sorted(d.iteritems(), key = lambda x: x[0]) #sort by the keys\n",
      "print sortedVal #now it's a sorted list of tuples. \n",
      "print alphaVal #sorted in alphabetical order"
     ],
     "language": "python",
     "metadata": {},
     "outputs": []
    },
    {
     "cell_type": "markdown",
     "metadata": {},
     "source": [
      "###Excercise 4\n",
      "Write a function that calculates the factorial of a given number `N`. Can you do it recursively? How about procedurally?"
     ]
    },
    {
     "cell_type": "code",
     "collapsed": false,
     "input": [],
     "language": "python",
     "metadata": {},
     "outputs": []
    },
    {
     "cell_type": "markdown",
     "metadata": {},
     "source": [
      "-----\n",
      "##Part 5: Objects\n",
      "There is a lot of depth to python's objects. After all, the language is built from the ground up on them. They are, for the most part, a lot like objects in other languages. I won't explore all the ins and outs of them here, since they are rather advanced. I will show you the basics of making your own though.\n",
      "\n",
      "The python object declaration looks like the this:"
     ]
    },
    {
     "cell_type": "code",
     "collapsed": false,
     "input": [
      "class Student(object):\n",
      "    \n",
      "    def __init__(self, name, classes):\n",
      "        print \"I'm the constructor!\"\n",
      "        self.name = name\n",
      "        self.classes = classes\n",
      "        \n",
      "    def __str__(self):\n",
      "        output = '%s:'%self.name\n",
      "        for clas in self.classes:\n",
      "            output+=str(clas)\n",
      "            if clas != self.classes[-1]:\n",
      "                output+=', '\n",
      "        return output\n",
      "        \n",
      "    def getName(self):\n",
      "        return self.name"
     ],
     "language": "python",
     "metadata": {},
     "outputs": []
    },
    {
     "cell_type": "markdown",
     "metadata": {},
     "source": [
      "The first line, `Student(object)`, implies that student inherits from parent class object. All python objects should inheirt from class object. It's possible to make objects with no parents, but this is an old method that should be phased out. \n",
      "\n",
      "The function `__init__` is the constructor for the object. It is called when the object is created."
     ]
    },
    {
     "cell_type": "code",
     "collapsed": false,
     "input": [
      "me = Student('Sean', ['Physics', 'Computer Science', 'Underwater Basket Weaving'])"
     ],
     "language": "python",
     "metadata": {},
     "outputs": []
    },
    {
     "cell_type": "markdown",
     "metadata": {},
     "source": [
      "Notice how the constructor was called. Any function method can be declared this way. Notice the getName function above. Notice that it takes `self` as an argument. This is to acknowledge that this is a class method. It allows the method to access variables attached the function's `self`, the object variables."
     ]
    },
    {
     "cell_type": "code",
     "collapsed": false,
     "input": [
      "print me.getName()"
     ],
     "language": "python",
     "metadata": {},
     "outputs": []
    },
    {
     "cell_type": "markdown",
     "metadata": {},
     "source": [
      "In addition to `__init__`, there are many other built-in functions that can be overloaded [here](https://docs.python.org/2/reference/datamodel.html#basic-customization). I'll showcase the use of the `__str__` method below.  This describes how the function behaves when the `str` method is called on it."
     ]
    },
    {
     "cell_type": "code",
     "collapsed": false,
     "input": [
      "print str(me)"
     ],
     "language": "python",
     "metadata": {},
     "outputs": []
    },
    {
     "cell_type": "markdown",
     "metadata": {},
     "source": [
      "One thing you may notice is that there are no private or public keywords. In python, everything is public. It may seem like an odd choice, but since the language is always distributed open source, it makes no sense to lock things off from the user. They can find them if they really want to. \n",
      "\n",
      "Python objects have a rich inheritance structure. Below, I'll make a subclass for the Student class above."
     ]
    },
    {
     "cell_type": "code",
     "collapsed": false,
     "input": [
      "class BusinessStudent(Student):\n",
      "    \n",
      "    def __init__(self, name, classes):\n",
      "        super(BusinessStudent, self).__init__(name, classes)\n",
      "        self.busy = False"
     ],
     "language": "python",
     "metadata": {},
     "outputs": []
    },
    {
     "cell_type": "code",
     "collapsed": false,
     "input": [
      "ryan = BusinessStudent('Ryan', ['Econ'])\n",
      "print str(ryan)\n",
      "print ryan.busy"
     ],
     "language": "python",
     "metadata": {},
     "outputs": []
    },
    {
     "cell_type": "markdown",
     "metadata": {},
     "source": [
      "Notice that I was able to use the `__str__` method in the superclass without defining it in the subclass. The key thing to notice is the call to `super`. `super` is a bit of a complex method, but it is the correct way to initialize superclasses when making subclasses. \n",
      "\n",
      "Python also supports multiple inheritance, but I won't go into it here. Details can be found [here](https://docs.python.org/2/tutorial/classes.html#multiple-inheritance).\n",
      "\n",
      "###Excercise 5\n",
      "####Answers Below!\n",
      "Write a subclass of Student that has a GPA variable. Include a function `__cmp__` that compares the GPA of two students. For example, if studentA has a higher GPA than studentB, `studentA >studentB` should evaluate to `True`. "
     ]
    },
    {
     "cell_type": "code",
     "collapsed": false,
     "input": [],
     "language": "python",
     "metadata": {},
     "outputs": []
    },
    {
     "cell_type": "markdown",
     "metadata": {},
     "source": [
      "-----\n",
      "##Part 6: Imports and Module Structure\n",
      "\n",
      "The largest structural component of python is the module. It is the name for an entire .py file. We've been cheating a little bit in this iPython notebook, as things behave a little differently. I've included in the directory with this notebook an example python file. I reccomend you take a look at it now; I'll be importing it below. "
     ]
    },
    {
     "cell_type": "code",
     "collapsed": false,
     "input": [
      "import ex\n",
      "ex.exFunc()"
     ],
     "language": "python",
     "metadata": {},
     "outputs": [
      {
       "output_type": "stream",
       "stream": "stdout",
       "text": [
        "I'm the example file!\n",
        "I'm the example function.\n"
       ]
      }
     ],
     "prompt_number": 27
    },
    {
     "cell_type": "markdown",
     "metadata": {},
     "source": [
      "Importing is one of the best parts of python. It's possible to import from any module, at any point in a module. You can import a whole module, like I did above, and that gives you access to everything in the **global scope**. I've shied away from discussion of python scopes, because there a few subtleties about how they work. Details for the curious can be found [here](https://docs.python.org/2/tutorial/classes.html#multiple-inheritance). For now, the global scope is everything on the top level. Similarly, you can import just a particilar variable or function, like below."
     ]
    },
    {
     "cell_type": "code",
     "collapsed": false,
     "input": [
      "from ex import exFunc\n",
      "exFunc()"
     ],
     "language": "python",
     "metadata": {},
     "outputs": []
    },
    {
     "cell_type": "markdown",
     "metadata": {},
     "source": [
      "You can also rename them, so as to not pollute your local namespace. "
     ]
    },
    {
     "cell_type": "code",
     "collapsed": false,
     "input": [
      "from ex import exFunc as myFunc\n",
      "myFunc()"
     ],
     "language": "python",
     "metadata": {},
     "outputs": []
    },
    {
     "cell_type": "markdown",
     "metadata": {},
     "source": [
      "Notice that, the first time you imported from ex, it printed a statement. What is that? When a module is imported, the whole module is run first. It is only run the first time it's imported, not any time afterward. This is important to know so you can design them appropriately. If you want to have code that doesn't run when the module is imported, take a look at ex.py. It shows an example of how to do that, using python's `__name__` variable. \n",
      "\n",
      "It is of couse possible to import from modules other than your own. Python built-in's and installed third party applications can be imported in the same way. Installing third party packages is easy with [pip](https://pypi.python.org/pypi/pip)."
     ]
    },
    {
     "cell_type": "code",
     "collapsed": false,
     "input": [
      "from time import time #built-in time module\n",
      "import numpy as np #third-party numeric module\n",
      "\n",
      "print time()\n",
      "x = np.array(range(10))\n",
      "print type(x)"
     ],
     "language": "python",
     "metadata": {},
     "outputs": []
    },
    {
     "cell_type": "markdown",
     "metadata": {},
     "source": [
      "###Excercise 6\n",
      "####Answers at the bottom!\n",
      "Write a function in an external module that calculates the Nth Fibonacci number, where F[0] = 1 and F[1] = 1. You can do it recursively or functionally. Import it and run it below."
     ]
    },
    {
     "cell_type": "code",
     "collapsed": false,
     "input": [],
     "language": "python",
     "metadata": {},
     "outputs": []
    },
    {
     "cell_type": "markdown",
     "metadata": {},
     "source": [
      "-----\n",
      "##Epilogue\n",
      "I hope you enjoyed this tutorial. If you have any questions or comments, email me at smclau2@illinois.edu. I leave you with one of python's best little secrets."
     ]
    },
    {
     "cell_type": "code",
     "collapsed": false,
     "input": [
      "import antigravity"
     ],
     "language": "python",
     "metadata": {},
     "outputs": [],
     "prompt_number": 28
    },
    {
     "cell_type": "markdown",
     "metadata": {},
     "source": [
      "-----\n",
      "##Answers"
     ]
    },
    {
     "cell_type": "code",
     "collapsed": false,
     "input": [
      "#Ex. 1\n",
      "n = 4**16-27\n",
      "strN = str(n)\n",
      "#first and last\n",
      "print strN[0], strN[-1]"
     ],
     "language": "python",
     "metadata": {},
     "outputs": [
      {
       "output_type": "stream",
       "stream": "stdout",
       "text": [
        "4 9\n"
       ]
      }
     ],
     "prompt_number": 29
    },
    {
     "cell_type": "code",
     "collapsed": false,
     "input": [
      "#Ex.2\n",
      "d = {'a':'alfa', 'b':'bravo', 'c':'charlie', 'd':'delta', 'e':'echo', 'f':'foxtrot',\n",
      "     'g':'golf', 'h':'hotel', 'i':'india', 'j':'juliett', 'k':'kilo', 'l':'lima',\n",
      "     'm':'mike', 'n':'november', 'o':'oscar', 'p':'papa', 'q':'quebec', 'r':'romeo',\n",
      "     's':'sierra', 't':'tango', 'u':'uniform', 'v':'victor', 'w':'whiskey', \n",
      "     'x':'x-ray', 'y':'yankee', 'z':'zulu'}\n",
      "\n",
      "message = 'Hello World'\n",
      "message = message.lower()#dict's in Lowercase\n",
      "for char in message:\n",
      "    if char in d:\n",
      "        print d[char]\n",
      "    else:\n",
      "        print char"
     ],
     "language": "python",
     "metadata": {},
     "outputs": [
      {
       "output_type": "stream",
       "stream": "stdout",
       "text": [
        "hotel\n",
        "echo\n",
        "lima\n",
        "lima\n",
        "oscar\n",
        " \n",
        "whiskey\n",
        "oscar\n",
        "romeo\n",
        "lima\n",
        "delta\n"
       ]
      }
     ],
     "prompt_number": 30
    },
    {
     "cell_type": "code",
     "collapsed": false,
     "input": [
      "#Ex. 3\n",
      "nums = []\n",
      "for n in xrange(10**4):\n",
      "    if n%3 ==0 and n%5 ==0:\n",
      "        nums.append(n)\n",
      "print nums[:10], sum(nums)        "
     ],
     "language": "python",
     "metadata": {},
     "outputs": [
      {
       "output_type": "stream",
       "stream": "stdout",
       "text": [
        "[0, 15, 30, 45, 60, 75, 90, 105, 120, 135] 3331665\n"
       ]
      }
     ],
     "prompt_number": 31
    },
    {
     "cell_type": "code",
     "collapsed": false,
     "input": [
      "#Ex. 4\n",
      "def fact(N):#recursive\n",
      "    if N==1:\n",
      "        return 1\n",
      "    return N*fact(N-1)\n",
      "\n",
      "def fact_2(N):#procedural\n",
      "    num = 1\n",
      "    while N>1:\n",
      "        num*=N\n",
      "        N-=1\n",
      "    return num\n",
      "\n",
      "print fact(10), fact_2(10)"
     ],
     "language": "python",
     "metadata": {},
     "outputs": []
    },
    {
     "cell_type": "code",
     "collapsed": false,
     "input": [
      "#Ex. 5\n",
      "class StudentGPA(Student):\n",
      "    \n",
      "    def __init__(self, name, classes, gpa):\n",
      "        super(StudentGPA, self).__init__(name, classes)\n",
      "        self.gpa = gpa\n",
      "        \n",
      "    def __cmp__(self, other):\n",
      "        #return a neg int if self<other, 0 if equal, pos if greater\n",
      "        if self.gpa == other.gpa:\n",
      "            return 0\n",
      "        return -1 if self.gpa<other.gpa else 1\n",
      "     \n",
      "studentA = StudentGPA('A', [], 4.0)\n",
      "studentB = StudentGPA('B', [], 3.5)\n",
      "\n",
      "print studentA>studentB"
     ],
     "language": "python",
     "metadata": {},
     "outputs": [
      {
       "ename": "NameError",
       "evalue": "name 'Student' is not defined",
       "output_type": "pyerr",
       "traceback": [
        "\u001b[1;31m---------------------------------------------------------------------------\u001b[0m\n\u001b[1;31mNameError\u001b[0m                                 Traceback (most recent call last)",
        "\u001b[1;32m<ipython-input-32-4785bc13af64>\u001b[0m in \u001b[0;36m<module>\u001b[1;34m()\u001b[0m\n\u001b[0;32m      1\u001b[0m \u001b[1;31m#Ex. 5\u001b[0m\u001b[1;33m\u001b[0m\u001b[1;33m\u001b[0m\u001b[0m\n\u001b[1;32m----> 2\u001b[1;33m \u001b[1;32mclass\u001b[0m \u001b[0mStudentGPA\u001b[0m\u001b[1;33m(\u001b[0m\u001b[0mStudent\u001b[0m\u001b[1;33m)\u001b[0m\u001b[1;33m:\u001b[0m\u001b[1;33m\u001b[0m\u001b[0m\n\u001b[0m\u001b[0;32m      3\u001b[0m \u001b[1;33m\u001b[0m\u001b[0m\n\u001b[0;32m      4\u001b[0m     \u001b[1;32mdef\u001b[0m \u001b[0m__init__\u001b[0m\u001b[1;33m(\u001b[0m\u001b[0mself\u001b[0m\u001b[1;33m,\u001b[0m \u001b[0mname\u001b[0m\u001b[1;33m,\u001b[0m \u001b[0mclasses\u001b[0m\u001b[1;33m,\u001b[0m \u001b[0mgpa\u001b[0m\u001b[1;33m)\u001b[0m\u001b[1;33m:\u001b[0m\u001b[1;33m\u001b[0m\u001b[0m\n\u001b[0;32m      5\u001b[0m         \u001b[0msuper\u001b[0m\u001b[1;33m(\u001b[0m\u001b[0mStudentGPA\u001b[0m\u001b[1;33m,\u001b[0m \u001b[0mself\u001b[0m\u001b[1;33m)\u001b[0m\u001b[1;33m.\u001b[0m\u001b[0m__init__\u001b[0m\u001b[1;33m(\u001b[0m\u001b[0mname\u001b[0m\u001b[1;33m,\u001b[0m \u001b[0mclasses\u001b[0m\u001b[1;33m)\u001b[0m\u001b[1;33m\u001b[0m\u001b[0m\n",
        "\u001b[1;31mNameError\u001b[0m: name 'Student' is not defined"
       ]
      }
     ],
     "prompt_number": 32
    },
    {
     "cell_type": "code",
     "collapsed": false,
     "input": [
      "#Ex. 6\n",
      "#Not writing externally\n",
      "def fib(N):\n",
      "    if N==0 or N==1:\n",
      "        return 1\n",
      "    return fib(N-1) + fib(N-2) #Expensive recursion!\n",
      "\n",
      "def fib_2(N):\n",
      "    N+=1 #this formula defined differently\n",
      "    gold_ratio = 1.61803\n",
      "    from math import sqrt\n",
      "    num = (gold_ratio**N-(1-gold_ratio)**N)\n",
      "    return int(round(num/sqrt(5)))\n",
      "\n",
      "print fib(10), fib_2(10)"
     ],
     "language": "python",
     "metadata": {},
     "outputs": []
    },
    {
     "cell_type": "markdown",
     "metadata": {},
     "source": [
      "##Bonus Part 7: Next Level S#!t\n",
      "So there were a ton of features that I know about that are SO COOL but not super appropriate for a beginner tutorial. This will be a lot more scatter-brained than the ones above, but still worth reading if you liked that stuff.\n",
      "\n",
      "###The iPython Notebook\n",
      "You're reading this in an iPython notebook. They are one of the coolest things that I've found in python, and are really becoming popular in the scientific and academic communities. You probably noticed that code is run in python cells. The text cells are in markdown, which is an insanely simple scripting language. I reference [this cheatsheet](https://github.com/adam-p/markdown-here/wiki/Markdown-Cheatsheet) all the time while I'm writing. iPython notebooks also support Tex-y equations like this one:\n",
      "\n",
      "$$ F(b) - F(A) = \\int_a^b{f(x)dx} $$\n",
      "\n",
      "and this one:\n",
      "\n",
      "$$ P(A|B) = \\frac{P(B|A)P(A)}{P(B)} $$\n",
      "\n",
      "They also support iPython cell magics ([doc here](http://nbviewer.ipython.org/github/ipython/ipython/blob/1.x/examples/notebooks/Cell%20Magics.ipynb)). I used the timeit magic earlier. Some other favorites are the matplot modifier, the R magic, and the bash magic. "
     ]
    },
    {
     "cell_type": "code",
     "collapsed": false,
     "input": [
      "%%bash\n",
      "echo Im in the terminal!\n",
      "pwd\n",
      "ls"
     ],
     "language": "python",
     "metadata": {},
     "outputs": [
      {
       "output_type": "stream",
       "stream": "stdout",
       "text": [
        "Im in the terminal!\n",
        "/home/sean/Dropbox/Shared/workspace/Code/PythonTutorial\n",
        "ex.py\n",
        "ex.pyc\n",
        "Python Crash Course.ipynb\n",
        "Python Crash Course Slideshow.ipynb\n",
        "Python Crash Course Slideshow.slides.html\n",
        "recent-grads.csv\n",
        "test.txt\n"
       ]
      }
     ],
     "prompt_number": 33
    },
    {
     "cell_type": "markdown",
     "metadata": {},
     "source": [
      "Use them to make docs for your code or as test boxes for your prototypes.\n",
      "###Numpy and Matplotlib\n",
      "\n",
      "Numpy and Matplotlib are essential third party python packages. I do not consider myself an expert on either, but they are essential for any numeric or scientific calculations. Numpy answers many performance problems python has by using C arrays in the background in its arrays. Take a look at how it's vectorizaiton works. Operations on a list are done on all variables within. "
     ]
    },
    {
     "cell_type": "code",
     "collapsed": false,
     "input": [
      "import numpy as np\n",
      "x = np.array(range(25))\n",
      "print x\n",
      "x+=1 #add 1 to everythin\n",
      "print x\n",
      "x = x**2 #square evertything\n",
      "print x\n",
      "print x.mean(), x.std() #mean and std of list"
     ],
     "language": "python",
     "metadata": {},
     "outputs": []
    },
    {
     "cell_type": "markdown",
     "metadata": {},
     "source": [
      "There's a lot, lot more to numpy than this, but I won't go into detail about it now. Make sure to look into [it](http://www.numpy.org/) if you're interested.\n",
      "\n",
      "Meanwhile, matplotlib is a numpy-based plotting interface. It makes very pretty plots easily. It has the same syntax as matlab's matplot interface. The key function is pyplot, which has capabilites to scatter plots, histograms, and images. Once again, I [link to the doc](http://matplotlib.org/api/pyplot_api.html) for the interested, but I'll do a demo below."
     ]
    },
    {
     "cell_type": "code",
     "collapsed": false,
     "input": [
      "from matplotlib import pyplot as plt\n",
      "%matplotlib inline\n",
      "plt.plot(x, color = 'g', linewidth = 2.5, label = 'Data')\n",
      "plt.scatter(range(25),np.sqrt(x), color = 'r', label = 'Orig Points')\n",
      "plt.title('Demo')\n",
      "plt.legend()\n",
      "plt.show()"
     ],
     "language": "python",
     "metadata": {},
     "outputs": []
    },
    {
     "cell_type": "markdown",
     "metadata": {},
     "source": [
      "###Context Managers\n",
      "These are something really cool that I don't use enough. Context managers (keyword `with`, details [here](https://docs.python.org/2/library/contextlib.html)) allow you to enter an operation with a defined behavior, and exit safely. The main use for these is safe file I/O. Below I'll read in a simple file and print it's conents. This handles all the safeguards for opening and closing the file. "
     ]
    },
    {
     "cell_type": "code",
     "collapsed": false,
     "input": [
      "with open('test.txt') as f:\n",
      "    for line in f:\n",
      "        print line,"
     ],
     "language": "python",
     "metadata": {},
     "outputs": []
    },
    {
     "cell_type": "markdown",
     "metadata": {},
     "source": [
      "###Itertools\n",
      "Itertools is a built in python library that has interesting iterator objects. There is a full list of them [here](https://docs.python.org/2/library/itertools.html). My two favorites are `izip` and `cycle`. `zip` takes multiple lists and combines them to one long list of tuples. The problem is, this creates a copy in memory. `izip` is an iterator version, and is way better (and faster). a `cycle` is an iterator that starts back at the begining after reaching the end. I'll use both below."
     ]
    },
    {
     "cell_type": "code",
     "collapsed": false,
     "input": [
      "from itertools import izip, cycle\n",
      "colors = cycle(['b','g','r'])\n",
      "nums = range(10)\n",
      "for n, color in izip(nums, colors):\n",
      "    print n, color"
     ],
     "language": "python",
     "metadata": {},
     "outputs": []
    },
    {
     "cell_type": "markdown",
     "metadata": {},
     "source": [
      "###Collections\n",
      "Python's built in [collections](https://docs.python.org/2/library/collections.html) are additional built in container types. Some of them are kinda niche, but super useful when you know of them. \n",
      "\n",
      "Let's start with namedtuple. The problem with tuples is that they hold data of different types, but are only identified by an index. No longer!"
     ]
    },
    {
     "cell_type": "code",
     "collapsed": false,
     "input": [
      "from collections import namedtuple\n",
      "\n",
      "Cartesian = namedtuple('Cartesian', ['x','y','z'])\n",
      "\n",
      "point = Cartesian(1,2,3)\n",
      "print point\n",
      "print getattr(point, 'y')"
     ],
     "language": "python",
     "metadata": {},
     "outputs": []
    },
    {
     "cell_type": "markdown",
     "metadata": {},
     "source": [
      "You may think this makes tuples more like dicts, and you're right. They're still not mutable though, and can still be hashed and all the rest. Just now, they're easily readable!\n",
      "\n",
      "defaultdict and Counter are 2 sides of the same coin. Recall the example for dicts above where I binned and counted values. This is great, but I had that ugly check if a key was in a dictionary. Wouldn't it be great if the dictionary new the behavior to use when the key wasn't in a dictionary? That's how a default dict works. You give it a defined default value for when a key isn't in a dictionary, and it rolls from there. Isn't this code much better than the above?"
     ]
    },
    {
     "cell_type": "code",
     "collapsed": false,
     "input": [
      "colors = ['red', 'yellow', 'cyan', 'red', 'green', 'green', 'blue', 'red', 'black']\n",
      "from collections import defaultdict\n",
      "colorDict = defaultdict(int)\n",
      "for color in colors:\n",
      "    colorDict[color]+=1\n",
      "print colorDict\n",
      "print colorDict['red']"
     ],
     "language": "python",
     "metadata": {},
     "outputs": []
    },
    {
     "cell_type": "markdown",
     "metadata": {},
     "source": [
      "Counters are a subclass of defaultdicts, used just for counting. That means they are like defaultdicts set to 0. The added advantage is they have built in counting functions. For example, the constructor counts occurences in an iterable. Watch how counters simplify the above code."
     ]
    },
    {
     "cell_type": "code",
     "collapsed": false,
     "input": [
      "from collections import Counter\n",
      "colorDict = Counter(colors)\n",
      "print colorDict\n",
      "print colorDict['red']"
     ],
     "language": "python",
     "metadata": {},
     "outputs": []
    },
    {
     "cell_type": "markdown",
     "metadata": {},
     "source": [
      "Ok for real that's all I've got for now. Below I have some real code I wrote this weekend, using data from [this fivethirtyeight story](http://fivethirtyeight.com/features/the-economic-guide-to-picking-a-college-major/). It shows the median income of college majors v. their popularity with women. I use a lot of the tricks I just showed you in it. Feel free to play with it!\n",
      "\n",
      "-----"
     ]
    },
    {
     "cell_type": "code",
     "collapsed": false,
     "input": [
      "filename = 'recent-grads.csv'\n",
      "delim = ','\n",
      "from csv import DictReader\n",
      "from matplotlib import pyplot as plt\n",
      "from itertools import izip,cycle\n",
      "from scipy.stats import linregress\n",
      "import numpy as np\n",
      "\n",
      "womenRatio = []\n",
      "medPay = []\n",
      "maj_cat = []\n",
      "majors = []\n",
      "#get the data\n",
      "with open(filename) as csvfile:\n",
      "    reader = DictReader(csvfile, delimiter = delim)\n",
      "    for line in reader:\n",
      "        womenRatio.append(float(line['ShareWomen']))\n",
      "        medPay.append(float(line['Median']))\n",
      "        maj_cat.append(line['Major_category'])\n",
      "        majors.append(line['Major'])\n",
      "\n",
      "colors = cycle(['b','g','r','c','m','y','k'])\n",
      "colorDict = {}\n",
      "#map majors to colors\n",
      "for maj, color in izip(set(maj_cat), colors): \n",
      "    colorDict[maj] = color\n",
      "#scatter plot them\n",
      "for rat, pay, cat in izip(womenRatio, medPay, maj_cat):\n",
      "    plt.scatter(rat, pay, color = colorDict[cat], label = cat)\n",
      "\n",
      "plt.xlim((min(womenRatio)-.05, max(womenRatio)+.05))\n",
      "#fit a line to the data\n",
      "m, b, r,p, err = linregress(womenRatio, medPay)\n",
      "plt.title('Correlation: %.3f'%(abs(r)))\n",
      "plt.plot(np.linspace(0,1), m*np.linspace(0,1)+b)\n",
      "plt.ylabel('Median Earning in Dollars')\n",
      "plt.xlabel('Ratio of Women in Major')\n",
      "plt.show()"
     ],
     "language": "python",
     "metadata": {},
     "outputs": []
    },
    {
     "cell_type": "code",
     "collapsed": false,
     "input": [],
     "language": "python",
     "metadata": {},
     "outputs": []
    }
   ],
   "metadata": {}
  }
 ]
}