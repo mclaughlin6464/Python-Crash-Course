{
 "metadata": {
  "celltoolbar": "Slideshow",
  "name": "",
  "signature": "sha256:fb3aa7e433cb69d0b605bedf9ce0956dc801d2dcfcb26571881efa9f8bf7928c"
 },
 "nbformat": 3,
 "nbformat_minor": 0,
 "worksheets": [
  {
   "cells": [
    {
     "cell_type": "markdown",
     "metadata": {
      "slideshow": {
       "slide_type": "slide"
      }
     },
     "source": [
      "#A Crash Course in Python\n",
      "##Not Your Dad's Programming Language\n",
      "####by Sean McLaughlin\n",
      "\n",
      "Python is a powerful, modern programming language. \n",
      "\n",
      "It's become the industry standard for companies like Google and Dropbox, and is the *lingua franca* in the scientific community.\n",
      "\n",
      "Python is very much *unlike* most other standard languages.\n",
      "\n",
      "Writing slick, clean python code is very easy, if you just know the basics.\n",
      "\n",
      "Let's start with something simple: The Zen of python. Press Shift+Enter to evaluate the cell below."
     ]
    },
    {
     "cell_type": "code",
     "collapsed": false,
     "input": [
      "import this"
     ],
     "language": "python",
     "metadata": {
      "slideshow": {
       "slide_type": "subslide"
      }
     },
     "outputs": [
      {
       "output_type": "stream",
       "stream": "stdout",
       "text": [
        "The Zen of Python, by Tim Peters\n",
        "\n",
        "Beautiful is better than ugly.\n",
        "Explicit is better than implicit.\n",
        "Simple is better than complex.\n",
        "Complex is better than complicated.\n",
        "Flat is better than nested.\n",
        "Sparse is better than dense.\n",
        "Readability counts.\n",
        "Special cases aren't special enough to break the rules.\n",
        "Although practicality beats purity.\n",
        "Errors should never pass silently.\n",
        "Unless explicitly silenced.\n",
        "In the face of ambiguity, refuse the temptation to guess.\n",
        "There should be one-- and preferably only one --obvious way to do it.\n",
        "Although that way may not be obvious at first unless you're Dutch.\n",
        "Now is better than never.\n",
        "Although never is often better than *right* now.\n",
        "If the implementation is hard to explain, it's a bad idea.\n",
        "If the implementation is easy to explain, it may be a good idea.\n",
        "Namespaces are one honking great idea -- let's do more of those!\n"
       ]
      }
     ],
     "prompt_number": 1
    },
    {
     "cell_type": "markdown",
     "metadata": {
      "slideshow": {
       "slide_type": "subslide"
      }
     },
     "source": [
      "###Assume that, at least 95% of the time, the language designers were smarter than you, and that they solved the problem for you already in a better way than you would've.\n",
      "\n",
      "This isn't always true; but it's **mostly** true, especially for a beginner.\n",
      "\n",
      "This tutorial is targeted at someone who has programmed before.\n",
      "Not meant as an introduction to programming."
     ]
    },
    {
     "cell_type": "markdown",
     "metadata": {
      "slideshow": {
       "slide_type": "slide"
      }
     },
     "source": [
      "##Part 0: Why Python Rocks\n",
      "\n",
      "Python isn't like other languages like C or Java. \n",
      "\n",
      " * **It's interpreted**\n",
      " \n",
      " * **It's ground-up object based**"
     ]
    },
    {
     "cell_type": "markdown",
     "metadata": {
      "slideshow": {
       "slide_type": "fragment"
      }
     },
     "source": [
      "If python is so atypical, you may ask, why has it risen to such prominence? Well:\n",
      "\n",
      " * Small Learning Curve\n",
      " * Well documented.\n",
      " * It's powerful and versatile.\n",
      " * Python has *insane* third party support. "
     ]
    },
    {
     "cell_type": "markdown",
     "metadata": {
      "slideshow": {
       "slide_type": "subslide"
      }
     },
     "source": [
      "Python has flaws, but the don't hold it back. Take for example:\n",
      "\n",
      " * **A big criticism of python is that it is slow.** \n",
      " \n",
      " * **Python must be distributed open source.** \n",
      " \n",
      "Python is great. It isn't an end all be all, but I bet by the end of this guide it'll be your new favorite. \n",
      "\n",
      "Do your `Hello World` below!"
     ]
    },
    {
     "cell_type": "markdown",
     "metadata": {
      "slideshow": {
       "slide_type": "slide"
      }
     },
     "source": [
      "##Part 1: Simple Types\n",
      "\n",
      "Python does not has simple types, like the C `int` type. \n",
      "Everyting is objects!\n",
      "Python is ***dynamically typed***. \n",
      "Variables don't need to be declared in python before their use. "
     ]
    },
    {
     "cell_type": "code",
     "collapsed": false,
     "input": [
      "#PSST. I'm a comment! I don't affect anything!\n",
      "#These are all 6 of the built-ins in pythonn\n",
      "x =1 #int\n",
      "print x\n",
      "x = 2.2 #float\n",
      "print x\n",
      "x = 10**4L #Long\n",
      "print x\n",
      "x  = 1.0J #complex\n",
      "print x\n",
      "x = 'STRANG' #string\n",
      "print x\n",
      "x = True #bool\n",
      "print x"
     ],
     "language": "python",
     "metadata": {
      "slideshow": {
       "slide_type": "fragment"
      }
     },
     "outputs": [
      {
       "output_type": "stream",
       "stream": "stdout",
       "text": [
        "1\n",
        "2.2\n",
        "10000\n",
        "1j\n",
        "STRANG\n",
        "True\n"
       ]
      }
     ],
     "prompt_number": 2
    },
    {
     "cell_type": "markdown",
     "metadata": {
      "slideshow": {
       "slide_type": "subslide"
      }
     },
     "source": [
      "It's a little eerire at first, but you'll get used to it. \n",
      "It's of course easy to cast between these types. \n",
      "Certain operations will automatically cast all members to the most complex type. \n",
      "It's also possible to manually cast them one way or another."
     ]
    },
    {
     "cell_type": "code",
     "collapsed": false,
     "input": [
      "s= '10'\n",
      "print s\n",
      "y = int(s)\n",
      "print y+10\n",
      "print y*3.0\n",
      "print long(y)"
     ],
     "language": "python",
     "metadata": {
      "slideshow": {
       "slide_type": "fragment"
      }
     },
     "outputs": [
      {
       "output_type": "stream",
       "stream": "stdout",
       "text": [
        "10\n",
        "20\n",
        "30.0\n",
        "10\n"
       ]
      }
     ],
     "prompt_number": 3
    },
    {
     "cell_type": "markdown",
     "metadata": {
      "slideshow": {
       "slide_type": "subslide"
      }
     },
     "source": [
      "Python simples are **immutable**.  "
     ]
    },
    {
     "cell_type": "code",
     "collapsed": false,
     "input": [
      "#the id function returns the address of the variale in memory\n",
      "x = True\n",
      "print 'X is True id:  %d'%id(x)#I'll explain string formatting and printing in a second!\n",
      "x = False\n",
      "print 'X is False id: %d'%id(x)\n",
      "y = False\n",
      "print 'Y is False id: %d'%id(y)"
     ],
     "language": "python",
     "metadata": {
      "slideshow": {
       "slide_type": "-"
      }
     },
     "outputs": [
      {
       "output_type": "stream",
       "stream": "stdout",
       "text": [
        "X is True id:  8916816\n",
        "X is False id: 8916848\n",
        "Y is False id: 8916848\n"
       ]
      }
     ],
     "prompt_number": 4
    },
    {
     "cell_type": "markdown",
     "metadata": {},
     "source": [
      "What's going on here? \n",
      "\n",
      "Both variables are referencing immutable bool objects. \n",
      "\n",
      "Bool is only ever `True` or `False`, so why have more than 2?"
     ]
    },
    {
     "cell_type": "markdown",
     "metadata": {
      "slideshow": {
       "slide_type": "subslide"
      }
     },
     "source": [
      "Same applies to others."
     ]
    },
    {
     "cell_type": "code",
     "collapsed": false,
     "input": [
      "x = 1\n",
      "print id(x)\n",
      "x+=1\n",
      "print id(x)\n",
      "print id(2)"
     ],
     "language": "python",
     "metadata": {
      "slideshow": {
       "slide_type": "-"
      }
     },
     "outputs": [
      {
       "output_type": "stream",
       "stream": "stdout",
       "text": [
        "26425336\n",
        "26425312\n",
        "26425312\n"
       ]
      }
     ],
     "prompt_number": 5
    },
    {
     "cell_type": "markdown",
     "metadata": {
      "slideshow": {
       "slide_type": "fragment"
      }
     },
     "source": [
      "Python variables don't hold values. \n",
      "Rather, they point to values that are universal. \n",
      "It ultimately doesn't affect your code much; you probably never noticed it before. \n",
      "\n",
      "***Everything in python is pass by reference.***\n",
      "When everything is pass by reference, it makes things easier. "
     ]
    },
    {
     "cell_type": "markdown",
     "metadata": {
      "slideshow": {
       "slide_type": "subslide"
      }
     },
     "source": [
      "Details are online.\n",
      "I'll just make a few key mentions.\n",
      "\n",
      " * Longs have unlimited size\n",
      " * bools' are a subset of integers.\n",
      " * Most types have an interesting `bool` casting.\n",
      " * the `is` operator compares memory addresses, not equality."
     ]
    },
    {
     "cell_type": "markdown",
     "metadata": {
      "slideshow": {
       "slide_type": "slide"
      }
     },
     "source": [
      "###Part 1.1: String Aside\n",
      "\n",
      "Different enough from numerics for special treatment.\n",
      "\n",
      "Made with `'` or `\"`.\n",
      "\n",
      "Escapes are also possible."
     ]
    },
    {
     "cell_type": "code",
     "collapsed": false,
     "input": [
      "print \"I'm a string!\"\n",
      "print 'I\\'m a string too!'"
     ],
     "language": "python",
     "metadata": {
      "slideshow": {
       "slide_type": "fragment"
      }
     },
     "outputs": [
      {
       "output_type": "stream",
       "stream": "stdout",
       "text": [
        "I'm a string!\n",
        "I'm a string too!\n"
       ]
      }
     ],
     "prompt_number": 6
    },
    {
     "cell_type": "markdown",
     "metadata": {
      "slideshow": {
       "slide_type": "subslide"
      }
     },
     "source": [
      "One of the most important things with strings is formatting.\n",
      "\n",
      "Here's a few short examples of printing fancy strings."
     ]
    },
    {
     "cell_type": "code",
     "collapsed": false,
     "input": [
      "print \"Look it's a one: %d\"%1\n",
      "print \"Look it's a one followed by a float 2!: %d, %f\"%(1, 2.0)\n",
      "pi = 3.141592653\n",
      "print \"And finally, pi to 3 digits of precesion is %.3f ya know?\"%pi"
     ],
     "language": "python",
     "metadata": {
      "slideshow": {
       "slide_type": "fragment"
      }
     },
     "outputs": [
      {
       "output_type": "stream",
       "stream": "stdout",
       "text": [
        "Look it's a one: 1\n",
        "Look it's a one followed by a float 2!: 1, 2.000000\n",
        "And finally, pi to 3 digits of precesion is 3.142 ya know?\n"
       ]
      }
     ],
     "prompt_number": 7
    },
    {
     "cell_type": "markdown",
     "metadata": {
      "slideshow": {
       "slide_type": "subslide"
      }
     },
     "source": [
      "One of the really interesting things about python strings is that they're kinda like container types. \n",
      "\n",
      "There are also a **ton** of special functions and methods. \n",
      "\n",
      "Learn them!\n",
      "\n",
      "Take Note: join() is faster than `+`!"
     ]
    },
    {
     "cell_type": "code",
     "collapsed": false,
     "input": [
      "s = 'supacalifragilisticexpialidocious'\n",
      "for char in s: #go character by character\n",
      "    print char,\n",
      "print '\\n' #newline\n",
      "    \n",
      "print s[0] #first char\n",
      "print s[-2] #second to last char\n",
      "print s.capitalize()\n",
      "print s.split('i') #remove i's and partition into chunks aroudn them"
     ],
     "language": "python",
     "metadata": {
      "slideshow": {
       "slide_type": "fragment"
      }
     },
     "outputs": [
      {
       "output_type": "stream",
       "stream": "stdout",
       "text": [
        "s u p a c a l i f r a g i l i s t i c e x p i a l i d o c i o u s \n",
        "\n",
        "s\n",
        "u\n",
        "Supacalifragilisticexpialidocious\n",
        "['supacal', 'frag', 'l', 'st', 'cexp', 'al', 'doc', 'ous']\n"
       ]
      }
     ],
     "prompt_number": 8
    },
    {
     "cell_type": "markdown",
     "metadata": {
      "slideshow": {
       "slide_type": "subslide"
      }
     },
     "source": [
      "###Excercise 1\n",
      "####Answers at the bottom!\n",
      "\n",
      "What is the first digit of `4**16-27`? How about the last?"
     ]
    },
    {
     "cell_type": "code",
     "collapsed": false,
     "input": [],
     "language": "python",
     "metadata": {},
     "outputs": [],
     "prompt_number": 8
    },
    {
     "cell_type": "markdown",
     "metadata": {
      "slideshow": {
       "slide_type": "slide"
      }
     },
     "source": [
      "##Part 2: Container Types\n",
      "\n",
      "There are four container types in python:\n",
      "\n",
      " * lists\n",
      " * tuples\n",
      " * sets\n",
      " * dictionaries"
     ]
    },
    {
     "cell_type": "markdown",
     "metadata": {
      "slideshow": {
       "slide_type": "subslide"
      }
     },
     "source": [
      "###Lists\n",
      "Lists are like arrays in other languages, but with 2 majors differences.\n",
      "1) They can hold data of any type. Look!"
     ]
    },
    {
     "cell_type": "code",
     "collapsed": false,
     "input": [
      "x = [1,2,3,4,5,6]\n",
      "y = ['potato', 3, True, 89.6]\n",
      "print x, y"
     ],
     "language": "python",
     "metadata": {},
     "outputs": [
      {
       "output_type": "stream",
       "stream": "stdout",
       "text": [
        "[1, 2, 3, 4, 5, 6] ['potato', 3, True, 89.6]\n"
       ]
      }
     ],
     "prompt_number": 9
    },
    {
     "cell_type": "markdown",
     "metadata": {
      "slideshow": {
       "slide_type": "fragment"
      }
     },
     "source": [
      "Just because you can doesn't mean you really should. "
     ]
    },
    {
     "cell_type": "markdown",
     "metadata": {
      "slideshow": {
       "slide_type": "subslide"
      }
     },
     "source": [
      "2) They are dynamically sized.\n",
      "This is **AWESOME**. No more worrying about allocating memory in advance."
     ]
    },
    {
     "cell_type": "code",
     "collapsed": false,
     "input": [
      "x = []\n",
      "x.append(1)\n",
      "print x\n",
      "x.extend([2,3,4])\n",
      "x.append('I LOVE APPENDING')\n",
      "print x"
     ],
     "language": "python",
     "metadata": {
      "slideshow": {
       "slide_type": "fragment"
      }
     },
     "outputs": [
      {
       "output_type": "stream",
       "stream": "stdout",
       "text": [
        "[1]\n",
        "[1, 2, 3, 4, 'I LOVE APPENDING']\n"
       ]
      }
     ],
     "prompt_number": 10
    },
    {
     "cell_type": "markdown",
     "metadata": {
      "slideshow": {
       "slide_type": "fragment"
      }
     },
     "source": [
      "There are also performance costs with this.\n",
      "\n",
      "Be familiar!!"
     ]
    },
    {
     "cell_type": "markdown",
     "metadata": {
      "slideshow": {
       "slide_type": "subslide"
      }
     },
     "source": [
      "There are a ton of cool functions. Here's just a taste."
     ]
    },
    {
     "cell_type": "code",
     "collapsed": false,
     "input": [
      "arr = [1,8,2,-1, 37,140, -1]\n",
      "print arr[1] #access the second element\n",
      "print arr[1:4]#this is slicing. It cuts the array from the second to the 4th element\n",
      "print len(arr)# get the array's length\n",
      "arr.sort() #sort the array in place\n",
      "print arr\n",
      "arr.remove(1)#remove the first element valued 1\n",
      "print arr"
     ],
     "language": "python",
     "metadata": {},
     "outputs": [
      {
       "output_type": "stream",
       "stream": "stdout",
       "text": [
        "8\n",
        "[8, 2, -1]\n",
        "7\n",
        "[-1, -1, 1, 2, 8, 37, 140]\n",
        "[-1, -1, 2, 8, 37, 140]\n"
       ]
      }
     ],
     "prompt_number": 11
    },
    {
     "cell_type": "markdown",
     "metadata": {},
     "source": [
      "We'll be revisiting lists in a bit after we cover control flow structures. \n",
      "\n",
      "They're pretty integral to the layout of `for` loops.\n"
     ]
    },
    {
     "cell_type": "markdown",
     "metadata": {
      "slideshow": {
       "slide_type": "slide"
      }
     },
     "source": [
      "###Tuples\n",
      "\n",
      "Tuples are...weird. \n",
      "They are a lot like lists in a lot of ways,except for one major one."
     ]
    },
    {
     "cell_type": "code",
     "collapsed": false,
     "input": [
      "tup = (1,2,3,4,5)\n",
      "print tup[0] #1st elem\n",
      "print len(tup) #length\n",
      "tup[0] = -1#modify"
     ],
     "language": "python",
     "metadata": {
      "slideshow": {
       "slide_type": "fragment"
      }
     },
     "outputs": [
      {
       "output_type": "stream",
       "stream": "stdout",
       "text": [
        "1\n",
        "5\n"
       ]
      },
      {
       "ename": "TypeError",
       "evalue": "'tuple' object does not support item assignment",
       "output_type": "pyerr",
       "traceback": [
        "\u001b[1;31m---------------------------------------------------------------------------\u001b[0m\n\u001b[1;31mTypeError\u001b[0m                                 Traceback (most recent call last)",
        "\u001b[1;32m<ipython-input-12-79ddfd298378>\u001b[0m in \u001b[0;36m<module>\u001b[1;34m()\u001b[0m\n\u001b[0;32m      2\u001b[0m \u001b[1;32mprint\u001b[0m \u001b[0mtup\u001b[0m\u001b[1;33m[\u001b[0m\u001b[1;36m0\u001b[0m\u001b[1;33m]\u001b[0m \u001b[1;31m#1st elem\u001b[0m\u001b[1;33m\u001b[0m\u001b[0m\n\u001b[0;32m      3\u001b[0m \u001b[1;32mprint\u001b[0m \u001b[0mlen\u001b[0m\u001b[1;33m(\u001b[0m\u001b[0mtup\u001b[0m\u001b[1;33m)\u001b[0m \u001b[1;31m#length\u001b[0m\u001b[1;33m\u001b[0m\u001b[0m\n\u001b[1;32m----> 4\u001b[1;33m \u001b[0mtup\u001b[0m\u001b[1;33m[\u001b[0m\u001b[1;36m0\u001b[0m\u001b[1;33m]\u001b[0m \u001b[1;33m=\u001b[0m \u001b[1;33m-\u001b[0m\u001b[1;36m1\u001b[0m\u001b[1;31m#modify\u001b[0m\u001b[1;33m\u001b[0m\u001b[0m\n\u001b[0m",
        "\u001b[1;31mTypeError\u001b[0m: 'tuple' object does not support item assignment"
       ]
      }
     ],
     "prompt_number": 12
    },
    {
     "cell_type": "markdown",
     "metadata": {
      "slideshow": {
       "slide_type": "fragment"
      }
     },
     "source": [
      "Tuples are **immutable**. \n",
      "\n",
      "Tuples are not supposed to be homogenous sequences like lists; there are heterogenous.\n",
      "\n",
      "Their unique properties also give them unique roles in:\n",
      "\n",
      " * They are hashable, so they can be used as keys for dicts or sets (see that in a sec)\n",
      " * They can be used to have functions return multiple values at once (see that in 2 secs)\n",
      " * Tuple unpacking is crazy cool.\n",
      " \n",
      "The last one I want to elaborate on. "
     ]
    },
    {
     "cell_type": "markdown",
     "metadata": {
      "slideshow": {
       "slide_type": "subslide"
      }
     },
     "source": [
      "Python, as it runs, evalutates comma separated things as tuples automagically."
     ]
    },
    {
     "cell_type": "code",
     "collapsed": false,
     "input": [
      "x = 1,2,3,4,5\n",
      "print x\n",
      "print type(x)"
     ],
     "language": "python",
     "metadata": {},
     "outputs": [
      {
       "output_type": "stream",
       "stream": "stdout",
       "text": [
        "(1, 2, 3, 4, 5)\n",
        "<type 'tuple'>\n"
       ]
      }
     ],
     "prompt_number": 13
    },
    {
     "cell_type": "markdown",
     "metadata": {
      "slideshow": {
       "slide_type": "fragment"
      }
     },
     "source": [
      "This also works in reverse. You can assign to individual elements of a tuple."
     ]
    },
    {
     "cell_type": "code",
     "collapsed": false,
     "input": [
      "a,b,c,d,e = x\n",
      "print a,b,c,d+e"
     ],
     "language": "python",
     "metadata": {
      "slideshow": {
       "slide_type": "fragment"
      }
     },
     "outputs": [
      {
       "output_type": "stream",
       "stream": "stdout",
       "text": [
        "1 2 3 9\n"
       ]
      }
     ],
     "prompt_number": 14
    },
    {
     "cell_type": "markdown",
     "metadata": {
      "slideshow": {
       "slide_type": "subslide"
      }
     },
     "source": [
      "Here's the old 2-variable swap."
     ]
    },
    {
     "cell_type": "code",
     "collapsed": false,
     "input": [
      "a = 1\n",
      "b =2\n",
      "tmp = a\n",
      "a = b\n",
      "b = tmp\n",
      "print a,b"
     ],
     "language": "python",
     "metadata": {
      "slideshow": {
       "slide_type": "-"
      }
     },
     "outputs": [
      {
       "output_type": "stream",
       "stream": "stdout",
       "text": [
        "2 1\n"
       ]
      }
     ],
     "prompt_number": 15
    },
    {
     "cell_type": "markdown",
     "metadata": {
      "slideshow": {
       "slide_type": "fragment"
      }
     },
     "source": [
      "Python says no more! One line variable swaps!"
     ]
    },
    {
     "cell_type": "code",
     "collapsed": false,
     "input": [
      "a, b = 1,2\n",
      "#FUUUUTTTTUUUUREEE\n",
      "b,a = a,b\n",
      "print a,b"
     ],
     "language": "python",
     "metadata": {
      "slideshow": {
       "slide_type": "fragment"
      }
     },
     "outputs": [
      {
       "output_type": "stream",
       "stream": "stdout",
       "text": [
        "2 1\n"
       ]
      }
     ],
     "prompt_number": 16
    },
    {
     "cell_type": "markdown",
     "metadata": {
      "slideshow": {
       "slide_type": "fragment"
      }
     },
     "source": [
      "If that isn't some of the coolest stuff you've ever seen get out of my face."
     ]
    },
    {
     "cell_type": "markdown",
     "metadata": {
      "slideshow": {
       "slide_type": "slide"
      }
     },
     "source": [
      "###Sets\n",
      "\n",
      "Sets behave exactly like logical sets. "
     ]
    },
    {
     "cell_type": "code",
     "collapsed": false,
     "input": [
      "a = set([1,2,3])\n",
      "b = set([3,4,5])\n",
      "print a | b #a U b\n",
      "print a & b # a intersect b\n",
      "print a-b #a-b\n",
      "a.add(1) #add an element already in a\n",
      "print a #duplicates not allowed"
     ],
     "language": "python",
     "metadata": {},
     "outputs": [
      {
       "output_type": "stream",
       "stream": "stdout",
       "text": [
        "set([1, 2, 3, 4, 5])\n",
        "set([3])\n",
        "set([1, 2])\n",
        "set([1, 2, 3])\n"
       ]
      }
     ],
     "prompt_number": 17
    },
    {
     "cell_type": "markdown",
     "metadata": {},
     "source": [
      "Sets can only store immutable objects. \n",
      "\n",
      "This is because sets are ***hash driven.***\n"
     ]
    },
    {
     "cell_type": "markdown",
     "metadata": {
      "slideshow": {
       "slide_type": "subslide"
      }
     },
     "source": [
      "Sets have O(1) membership checks."
     ]
    },
    {
     "cell_type": "code",
     "collapsed": false,
     "input": [
      "for n in xrange(4,7):#We're doing control flow structures next!\n",
      "    N = 10**n\n",
      "    print 'Membership is size %d'%N\n",
      "    l = range(N)#make a list of size N\n",
      "    s = set(l) #note that the creation of a set is O(N), so you need to be careful about how you do it.\n",
      "    print 'List:'\n",
      "    #I'm usign some ipython magic here; i'll get to those later too.\n",
      "    %timeit N/2 in l#check membership\n",
      "    print 'Set:'\n",
      "    %timeit N/2 in s#check membership\n",
      "    print '_'*20  "
     ],
     "language": "python",
     "metadata": {},
     "outputs": [
      {
       "output_type": "stream",
       "stream": "stdout",
       "text": [
        "Membership is size 10000\n",
        "List:\n",
        "10000 loops, best of 3: 63 \u00b5s per loop"
       ]
      },
      {
       "output_type": "stream",
       "stream": "stdout",
       "text": [
        "\n",
        "Set:\n",
        "10000000 loops, best of 3: 123 ns per loop"
       ]
      },
      {
       "output_type": "stream",
       "stream": "stdout",
       "text": [
        "\n",
        "____________________\n",
        "Membership is size 100000\n",
        "List:\n",
        "1000 loops, best of 3: 637 \u00b5s per loop"
       ]
      },
      {
       "output_type": "stream",
       "stream": "stdout",
       "text": [
        "\n",
        "Set:\n",
        "10000000 loops, best of 3: 121 ns per loop"
       ]
      },
      {
       "output_type": "stream",
       "stream": "stdout",
       "text": [
        "\n",
        "____________________\n",
        "Membership is size 1000000\n",
        "List:"
       ]
      },
      {
       "output_type": "stream",
       "stream": "stdout",
       "text": [
        "\n",
        "100 loops, best of 3: 7.15 ms per loop"
       ]
      },
      {
       "output_type": "stream",
       "stream": "stdout",
       "text": [
        "\n",
        "Set:\n",
        "10000000 loops, best of 3: 147 ns per loop"
       ]
      },
      {
       "output_type": "stream",
       "stream": "stdout",
       "text": [
        "\n",
        "____________________\n"
       ]
      }
     ],
     "prompt_number": 18
    },
    {
     "cell_type": "markdown",
     "metadata": {},
     "source": [
      "This is an insanely useful feature and I reccomend you think of ways to use it in your code wherever you can to increase peformance. "
     ]
    },
    {
     "cell_type": "markdown",
     "metadata": {
      "slideshow": {
       "slide_type": "slide"
      }
     },
     "source": [
      "###Dictionaries\n",
      "\n",
      "Python's best data structure.\n",
      "\n",
      "They're like set's older, better brother. \n",
      "\n",
      "Dictionaries are a mapping type.\n",
      "\n",
      "The key must be immutable, but values need not be.\n",
      "\n",
      "They have a variety of uses, like binning or counting"
     ]
    },
    {
     "cell_type": "code",
     "collapsed": false,
     "input": [
      "#counting\n",
      "colors = ['red', 'yellow', 'cyan', 'red', 'green', 'green', 'blue', 'red', 'black']\n",
      "colorDict = {}\n",
      "for color in colors:\n",
      "    if color not in colorDict: #O(1) membership checks\n",
      "        colorDict[color] = 0\n",
      "    colorDict[color]+=1\n",
      "print colorDict\n",
      "print colorDict['red']\n",
      "\n",
      "#binning\n",
      "divDict= {} #dictionary of the smallest prime factor of a number.\n",
      "from math import sqrt #I'll show off imports later\n",
      "for n in xrange(1,10**3):#iterate from 1 to 10000\n",
      "    for d in xrange(2, int(sqrt(n))+1):#iterate from 2 to sqrt(N) in the denominator\n",
      "        result = n/float(d)\n",
      "        if int(result) == result: #it's an int\n",
      "            if d not in divDict: #initialize the dict\n",
      "                divDict[d] = []\n",
      "            divDict[d].append(n)\n",
      "            break\n",
      "print divDict.keys()\n",
      "print divDict[31],divDict[11]\n",
      "\n",
      "#Making a simple pseudo object\n",
      "person = {}\n",
      "person['Name'] = 'Sean'\n",
      "person['Height'] = 6.166 #feet\n",
      "person['Eye Color'] = 'blue'\n",
      "print person"
     ],
     "language": "python",
     "metadata": {
      "slideshow": {
       "slide_type": "subslide"
      }
     },
     "outputs": [
      {
       "output_type": "stream",
       "stream": "stdout",
       "text": [
        "{'blue': 1, 'yellow': 1, 'green': 2, 'cyan': 1, 'red': 3, 'black': 1}\n",
        "3\n",
        "[2, 3, 5, 7, 11, 13, 17, 19, 23, 29, 31]\n",
        "[961] [121, 143, 187, 209, 253, 319, 341, 407, 451, 473, 517, 583, 649, 671, 737, 781, 803, 869, 913, 979]\n",
        "{'Eye Color': 'blue', 'Name': 'Sean', 'Height': 6.166}\n"
       ]
      }
     ],
     "prompt_number": 19
    },
    {
     "cell_type": "markdown",
     "metadata": {},
     "source": [
      "Dicts are also just useful to treat like arrays, but with keys that aren't easily encoded as ints. Use them often."
     ]
    },
    {
     "cell_type": "markdown",
     "metadata": {
      "slideshow": {
       "slide_type": "subslide"
      }
     },
     "source": [
      "###Excercise 2\n",
      "####Answers at the bottom\n",
      "Using the dictionary below, print 'Hello World' in the ICAO alphabet. Can you generalize it to any message?"
     ]
    },
    {
     "cell_type": "code",
     "collapsed": false,
     "input": [
      "d = {'a':'alfa', 'b':'bravo', 'c':'charlie', 'd':'delta', 'e':'echo', 'f':'foxtrot',\n",
      "     'g':'golf', 'h':'hotel', 'i':'india', 'j':'juliett', 'k':'kilo', 'l':'lima',\n",
      "     'm':'mike', 'n':'november', 'o':'oscar', 'p':'papa', 'q':'quebec', 'r':'romeo',\n",
      "     's':'sierra', 't':'tango', 'u':'uniform', 'v':'victor', 'w':'whiskey', \n",
      "     'x':'x-ray', 'y':'yankee', 'z':'zulu'}\n",
      "\n",
      "#your code here\n",
      "#HINT You'll need a for loop. If you'd like, read ahead and come back."
     ],
     "language": "python",
     "metadata": {},
     "outputs": [],
     "prompt_number": 20
    },
    {
     "cell_type": "markdown",
     "metadata": {
      "slideshow": {
       "slide_type": "slide"
      }
     },
     "source": [
      "##Part 3: Control Flow Structures and Iterators\n",
      "In python, we have da boys in control flow:\n",
      "\n",
      " * if\n",
      " * else and elif\n",
      " * while\n",
      " * for\n",
      " \n",
      "There is not, however, a case/switch statement in python. \n",
      "\n",
      "For the most part, the first 3 behave as you'd expect. \n",
      "\n",
      "Python uses *whitespace* to set off blocks of code. \n",
      "\n",
      "It forces pretty looking code. How great is that?"
     ]
    },
    {
     "cell_type": "markdown",
     "metadata": {
      "slideshow": {
       "slide_type": "subslide"
      }
     },
     "source": [
      "###If, else and elif\n",
      "All three work like you'd expect them to work."
     ]
    },
    {
     "cell_type": "code",
     "collapsed": false,
     "input": [
      "for i in xrange(10):\n",
      "    if i ==2:\n",
      "        print 'It\\'s 2!'\n",
      "    elif i==6:\n",
      "        print 'It\\'s 6!'\n",
      "    else:\n",
      "        print 'It isn\\'t either!'"
     ],
     "language": "python",
     "metadata": {},
     "outputs": [
      {
       "output_type": "stream",
       "stream": "stdout",
       "text": [
        "It isn't either!\n",
        "It isn't either!\n",
        "It's 2!\n",
        "It isn't either!\n",
        "It isn't either!\n",
        "It isn't either!\n",
        "It's 6!\n",
        "It isn't either!\n",
        "It isn't either!\n",
        "It isn't either!\n"
       ]
      }
     ],
     "prompt_number": 21
    },
    {
     "cell_type": "markdown",
     "metadata": {
      "slideshow": {
       "slide_type": "subslide"
      }
     },
     "source": [
      "if,else,elif and while all evaluate an object's `bool()` method. \n",
      "\n",
      "Certain objects have interesting bools."
     ]
    },
    {
     "cell_type": "code",
     "collapsed": false,
     "input": [
      "shoppingList = ['milk','eggs','beer','tofu','beer']\n",
      "print bool(shoppingList)\n",
      "if shoppingList:\n",
      "    print 'Still need more things'\n",
      "else:\n",
      "    print 'We\\'re done!'\n",
      "print bool([])"
     ],
     "language": "python",
     "metadata": {},
     "outputs": [
      {
       "output_type": "stream",
       "stream": "stdout",
       "text": [
        "True\n",
        "Still need more things\n",
        "False\n"
       ]
      }
     ],
     "prompt_number": 22
    },
    {
     "cell_type": "markdown",
     "metadata": {
      "slideshow": {
       "slide_type": "subslide"
      }
     },
     "source": [
      "if that if and else can be used for some elegant assignment/ return statements."
     ]
    },
    {
     "cell_type": "code",
     "collapsed": false,
     "input": [
      "n = 68\n",
      "evenOrOdd = 'Even' if n%2==0 else 'Odd'\n",
      "print evenOrOdd"
     ],
     "language": "python",
     "metadata": {},
     "outputs": [
      {
       "output_type": "stream",
       "stream": "stdout",
       "text": [
        "Even\n"
       ]
      }
     ],
     "prompt_number": 23
    },
    {
     "cell_type": "markdown",
     "metadata": {
      "slideshow": {
       "slide_type": "slide"
      }
     },
     "source": [
      "###While\n",
      "While works just like you'd expect. It continues the loop while the bool expression at it's top continues to be true."
     ]
    },
    {
     "cell_type": "code",
     "collapsed": false,
     "input": [
      "while shoppingList:\n",
      "    print shoppingList.pop()"
     ],
     "language": "python",
     "metadata": {},
     "outputs": [
      {
       "output_type": "stream",
       "stream": "stdout",
       "text": [
        "beer\n",
        "tofu\n",
        "beer\n",
        "eggs\n",
        "milk\n"
       ]
      }
     ],
     "prompt_number": 24
    },
    {
     "cell_type": "markdown",
     "metadata": {
      "slideshow": {
       "slide_type": "subslide"
      }
     },
     "source": [
      "The 2 keywords for loops are `break` and `continue`. \n",
      "\n",
      "Break exits the loop.\n",
      "\n",
      "Continue skips to the next iteration."
     ]
    },
    {
     "cell_type": "code",
     "collapsed": false,
     "input": [
      "shoppingList = ['tofu','milk','eggs','beer','beer']\n",
      "bought = set()\n",
      "vegetarian = False\n",
      "while shoppingList:\n",
      "    item = shoppingList.pop()\n",
      "    if item == 'tofu' and not vegetarian:\n",
      "        break\n",
      "    if item in bought: #don't buy again\n",
      "        continue\n",
      "    bought.add(item)\n",
      "    print bought"
     ],
     "language": "python",
     "metadata": {},
     "outputs": [
      {
       "output_type": "stream",
       "stream": "stdout",
       "text": [
        "set(['beer'])\n",
        "set(['beer', 'eggs'])\n",
        "set(['beer', 'eggs', 'milk'])\n"
       ]
      }
     ],
     "prompt_number": 25
    },
    {
     "cell_type": "markdown",
     "metadata": {
      "slideshow": {
       "slide_type": "slide"
      }
     },
     "source": [
      "###For\n",
      "For loops are possibly part of the 5% of the time python's deisgners messed up. \n",
      "\n",
      "**For should've been called for each.**\n",
      "\n",
      "The way a C programmer would iterate over a loop is like this:"
     ]
    },
    {
     "cell_type": "code",
     "collapsed": false,
     "input": [
      "shoppingList = ['tofu','milk','eggs','beer','beer']\n",
      "for i in range(len(shoppingList)):\n",
      "    print shoppingList[i]"
     ],
     "language": "python",
     "metadata": {},
     "outputs": [
      {
       "output_type": "stream",
       "stream": "stdout",
       "text": [
        "tofu\n",
        "milk\n",
        "eggs\n",
        "beer\n",
        "beer\n"
       ]
      }
     ],
     "prompt_number": 26
    },
    {
     "cell_type": "markdown",
     "metadata": {
      "slideshow": {
       "slide_type": "fragment"
      }
     },
     "source": [
      "This is bad code. \n",
      "\n",
      "All of that work has been implemented for you already under python's hood."
     ]
    },
    {
     "cell_type": "markdown",
     "metadata": {
      "slideshow": {
       "slide_type": "subslide"
      }
     },
     "source": [
      "This is the python way:"
     ]
    },
    {
     "cell_type": "code",
     "collapsed": false,
     "input": [
      "for item in shoppingList:\n",
      "    print item"
     ],
     "language": "python",
     "metadata": {
      "slideshow": {
       "slide_type": "fragment"
      }
     },
     "outputs": [
      {
       "output_type": "stream",
       "stream": "stdout",
       "text": [
        "tofu\n",
        "milk\n",
        "eggs\n",
        "beer\n",
        "beer\n"
       ]
      }
     ],
     "prompt_number": 27
    },
    {
     "cell_type": "markdown",
     "metadata": {
      "slideshow": {
       "slide_type": "fragment"
      }
     },
     "source": [
      "It's faster and more readable. "
     ]
    },
    {
     "cell_type": "markdown",
     "metadata": {
      "slideshow": {
       "slide_type": "subslide"
      }
     },
     "source": [
      "If you really need the index, there's another, faster way. \n",
      "\n",
      "Here's an example of that, along with a few other functions that make iterating over lists easier."
     ]
    },
    {
     "cell_type": "code",
     "collapsed": false,
     "input": [
      "for idx, item in enumerate(shoppingList):\n",
      "    print idx, item\n",
      "print '_'*20\n",
      "for item in sorted(shoppingList):\n",
      "    print item\n",
      "print '_'*20\n",
      "for item in reversed(shoppingList):\n",
      "    print item\n",
      "print '_'*20\n",
      "otherList = ['steak', 'buns', 'ketchup', 'coffee']\n",
      "for other, item in zip(otherList, shoppingList):#combine 2 lists and iteratte together\n",
      "    print other, item"
     ],
     "language": "python",
     "metadata": {
      "slideshow": {
       "slide_type": "fragment"
      }
     },
     "outputs": [
      {
       "output_type": "stream",
       "stream": "stdout",
       "text": [
        "0 tofu\n",
        "1 milk\n",
        "2 eggs\n",
        "3 beer\n",
        "4 beer\n",
        "____________________\n",
        "beer\n",
        "beer\n",
        "eggs\n",
        "milk\n",
        "tofu\n",
        "____________________\n",
        "beer\n",
        "beer\n",
        "eggs\n",
        "milk\n",
        "tofu\n",
        "____________________\n",
        "steak tofu\n",
        "buns milk\n",
        "ketchup eggs\n",
        "coffee beer\n"
       ]
      }
     ],
     "prompt_number": 28
    },
    {
     "cell_type": "markdown",
     "metadata": {
      "slideshow": {
       "slide_type": "subslide"
      }
     },
     "source": [
      "The `continue` and `break` keywords also work with `for`. \n",
      "\n",
      "`for` also has an `else` clause, which is poorly named. \n",
      "\n",
      "It'd be better titled \"no break.\" "
     ]
    },
    {
     "cell_type": "code",
     "collapsed": false,
     "input": [
      "for item in shoppingList:\n",
      "    if item == 'spinach':\n",
      "        print 'EWWWW'\n",
      "        break\n",
      "else:\n",
      "    print 'HOORAY'"
     ],
     "language": "python",
     "metadata": {
      "slideshow": {
       "slide_type": "fragment"
      }
     },
     "outputs": [
      {
       "output_type": "stream",
       "stream": "stdout",
       "text": [
        "HOORAY\n"
       ]
      }
     ],
     "prompt_number": 29
    },
    {
     "cell_type": "markdown",
     "metadata": {
      "slideshow": {
       "slide_type": "subslide"
      }
     },
     "source": [
      "`for` is integral to some of the cooler parts of lists and dicts. \n",
      "\n",
      "Welcome to the world of list and dict comprehension, where we can build lists and dicts on the fly with `for`. "
     ]
    },
    {
     "cell_type": "code",
     "collapsed": false,
     "input": [
      "sqs = [x**2 for x in xrange(10)]\n",
      "sqDict = {x:x**2 for x in xrange(10)}\n",
      "\n",
      "listOfLists = [[] for i in xrange(10)]\n",
      "listOfLists[0].append(1)\n",
      "print sqs\n",
      "print sqDict\n",
      "print listOfLists"
     ],
     "language": "python",
     "metadata": {
      "slideshow": {
       "slide_type": "fragment"
      }
     },
     "outputs": [
      {
       "output_type": "stream",
       "stream": "stdout",
       "text": [
        "[0, 1, 4, 9, 16, 25, 36, 49, 64, 81]\n",
        "{0: 0, 1: 1, 2: 4, 3: 9, 4: 16, 5: 25, 6: 36, 7: 49, 8: 64, 9: 81}\n",
        "[[1], [], [], [], [], [], [], [], [], []]\n"
       ]
      }
     ],
     "prompt_number": 30
    },
    {
     "cell_type": "markdown",
     "metadata": {
      "slideshow": {
       "slide_type": "slide"
      }
     },
     "source": [
      "###Iterators\n",
      "Also tightly connected with `for` loops are iterator objects. \n",
      "\n",
      "They are essentially memory efficient ways to step over objects. \n",
      "\n",
      "You may have noticed me using `range` and `xrange` above. What's the difference? \n",
      "\n",
      " * `xrange` is an iterator. It's poorly named, for sure, but you should **always** use it with loops. \n",
      "\n",
      " * `range` generates the entire list in memory all at once. Take a look at the code below."
     ]
    },
    {
     "cell_type": "code",
     "collapsed": false,
     "input": [
      "from sys import getsizeof\n",
      "for ex in xrange(6):\n",
      "    listSize = getsizeof(range(10**ex))\n",
      "    xrangeSize = getsizeof(xrange(10**ex))\n",
      "    print 'N :%d\\tIter Size (bytes): %d\\t List Size (bytes): %d'%(10**ex,xrangeSize, listSize)"
     ],
     "language": "python",
     "metadata": {
      "slideshow": {
       "slide_type": "subslide"
      }
     },
     "outputs": [
      {
       "output_type": "stream",
       "stream": "stdout",
       "text": [
        "N :1\tIter Size (bytes): 40\t List Size (bytes): 80\n",
        "N :10\tIter Size (bytes): 40\t List Size (bytes): 152\n",
        "N :100\tIter Size (bytes): 40\t List Size (bytes): 872\n",
        "N :1000\tIter Size (bytes): 40\t List Size (bytes): 8072\n",
        "N :10000\tIter Size (bytes): 40\t List Size (bytes): 80072\n",
        "N :100000\tIter Size (bytes): 40\t List Size (bytes): 800072\n"
       ]
      }
     ],
     "prompt_number": 31
    },
    {
     "cell_type": "markdown",
     "metadata": {
      "slideshow": {
       "slide_type": "subslide"
      }
     },
     "source": [
      "Iterators make an apperance in a lot of places in python, and you should use them wherever you find them. \n",
      "\n",
      "Take for example, the `items` and `iteritems` dictionary methods. \n",
      "\n",
      " * If you are simply iterating over a dictionary, `iteritems` is a better, faster choice. \n",
      " \n",
      " * However, if you are **modifying** the dict, though, you should use `items`. It generates a copy, which is more expensive, but if you attempt to modify something while you are iterating over it **you are living in a state of sin and you deserve what happens to you.**"
     ]
    },
    {
     "cell_type": "code",
     "collapsed": false,
     "input": [
      "sqDict = {x:x**2 for x in xrange(10)}\n",
      "for val, valSq in sqDict.iteritems():\n",
      "    print val, valSq"
     ],
     "language": "python",
     "metadata": {
      "slideshow": {
       "slide_type": "fragment"
      }
     },
     "outputs": [
      {
       "output_type": "stream",
       "stream": "stdout",
       "text": [
        "0 0\n",
        "1 1\n",
        "2 4\n",
        "3 9\n",
        "4 16\n",
        "5 25\n",
        "6 36\n",
        "7 49\n",
        "8 64\n",
        "9 81\n"
       ]
      }
     ],
     "prompt_number": 32
    },
    {
     "cell_type": "markdown",
     "metadata": {
      "slideshow": {
       "slide_type": "subslide"
      }
     },
     "source": [
      "###Excercise 3\n",
      "####Answers at the bottom!\n",
      "Create a list of all numbers under 10,000 divisible by both 3 and 5. Then, find it's sum. You may find the `%`(modulus) operator useful."
     ]
    },
    {
     "cell_type": "code",
     "collapsed": false,
     "input": [],
     "language": "python",
     "metadata": {},
     "outputs": [],
     "prompt_number": 32
    },
    {
     "cell_type": "markdown",
     "metadata": {
      "slideshow": {
       "slide_type": "slide"
      }
     },
     "source": [
      "##Part 4: Functions\n",
      "Creating functions in python is very easy and simple. \n",
      "\n",
      "All you need is the `def` keyword, and possibly `return`."
     ]
    },
    {
     "cell_type": "code",
     "collapsed": false,
     "input": [
      "def print1():\n",
      "    print 1\n",
      "    \n",
      "def return1():\n",
      "    return 1\n",
      "\n",
      "print1()\n",
      "x =return1()\n",
      "print x"
     ],
     "language": "python",
     "metadata": {
      "slideshow": {
       "slide_type": "fragment"
      }
     },
     "outputs": [
      {
       "output_type": "stream",
       "stream": "stdout",
       "text": [
        "1\n",
        "1\n"
       ]
      }
     ],
     "prompt_number": 33
    },
    {
     "cell_type": "markdown",
     "metadata": {
      "slideshow": {
       "slide_type": "subslide"
      }
     },
     "source": [
      "You do not need to define the type of returns a function gives. \n",
      "\n",
      "In fact, you can make a function that returns any type, and any number of results."
     ]
    },
    {
     "cell_type": "code",
     "collapsed": false,
     "input": [
      "def bananas(val):\n",
      "    if val%2 == 0:\n",
      "        return True\n",
      "    elif val%3 == 0:\n",
      "        return 1,2.0\n",
      "    else:\n",
      "        return 'GAH'\n",
      "    \n",
      "print bananas(6)\n",
      "print bananas(9)\n",
      "print bananas(7)"
     ],
     "language": "python",
     "metadata": {
      "slideshow": {
       "slide_type": "fragment"
      }
     },
     "outputs": [
      {
       "output_type": "stream",
       "stream": "stdout",
       "text": [
        "True\n",
        "(1, 2.0)\n",
        "GAH\n"
       ]
      }
     ],
     "prompt_number": 34
    },
    {
     "cell_type": "markdown",
     "metadata": {
      "slideshow": {
       "slide_type": "subslide"
      }
     },
     "source": [
      "Another great feature of function is default arguments. \n",
      "\n",
      "You can write a function that had default values, or use keywords  to specify specific ones. "
     ]
    },
    {
     "cell_type": "code",
     "collapsed": false,
     "input": [
      "def printValue(value, nTimes = 2):\n",
      "    for n in xrange(nTimes):\n",
      "        print value\n",
      "\n",
      "printValue(2, 3)\n",
      "printValue(3,nTimes = 1)\n",
      "printValue(value = 6) #use the default value here"
     ],
     "language": "python",
     "metadata": {
      "slideshow": {
       "slide_type": "fragment"
      }
     },
     "outputs": [
      {
       "output_type": "stream",
       "stream": "stdout",
       "text": [
        "2\n",
        "2\n",
        "2\n",
        "3\n",
        "6\n",
        "6\n"
       ]
      }
     ],
     "prompt_number": 35
    },
    {
     "cell_type": "markdown",
     "metadata": {
      "slideshow": {
       "slide_type": "subslide"
      }
     },
     "source": [
      "Passing around functions refs is easy too. \n",
      "\n",
      "Check this out."
     ]
    },
    {
     "cell_type": "code",
     "collapsed": false,
     "input": [
      "def addOne(val):\n",
      "    return val+1\n",
      "\n",
      "def addTwo(val):\n",
      "    return val+2\n",
      "\n",
      "myVal = 16\n",
      "myFunc = addOne if myVal%2==1 else addTwo\n",
      "myFunc(myVal)"
     ],
     "language": "python",
     "metadata": {
      "slideshow": {
       "slide_type": "fragment"
      }
     },
     "outputs": [
      {
       "metadata": {},
       "output_type": "pyout",
       "prompt_number": 36,
       "text": [
        "18"
       ]
      }
     ],
     "prompt_number": 36
    },
    {
     "cell_type": "markdown",
     "metadata": {
      "slideshow": {
       "slide_type": "subslide"
      }
     },
     "source": [
      "####Aside: Anonymous functions\n",
      "The keyword `lambda` creates an anonymous, oneline function.\n",
      "\n",
      "There have a variety of uses, but I like using them to make easy key functions. "
     ]
    },
    {
     "cell_type": "code",
     "collapsed": false,
     "input": [
      "d = {'red': 10, 'blue': 8, 'green':2, 'orange':19}\n",
      "sortedVal = sorted(d.iteritems(), key = lambda x: x[1]) #sort by the second val in the tuple.\n",
      "alphaVal = sorted(d.iteritems(), key = lambda x: x[0]) #sort by the keys\n",
      "print sortedVal #now it's a sorted list of tuples. \n",
      "print alphaVal #sorted in alphabetical order"
     ],
     "language": "python",
     "metadata": {
      "slideshow": {
       "slide_type": "fragment"
      }
     },
     "outputs": [
      {
       "output_type": "stream",
       "stream": "stdout",
       "text": [
        "[('green', 2), ('blue', 8), ('red', 10), ('orange', 19)]\n",
        "[('blue', 8), ('green', 2), ('orange', 19), ('red', 10)]\n"
       ]
      }
     ],
     "prompt_number": 37
    },
    {
     "cell_type": "markdown",
     "metadata": {
      "slideshow": {
       "slide_type": "subslide"
      }
     },
     "source": [
      "###Excercise 4\n",
      "Write a function that calculates the factorial of a given number `N`. Can you do it recursively? How about procedurally?"
     ]
    },
    {
     "cell_type": "code",
     "collapsed": false,
     "input": [],
     "language": "python",
     "metadata": {},
     "outputs": [],
     "prompt_number": 37
    },
    {
     "cell_type": "markdown",
     "metadata": {
      "slideshow": {
       "slide_type": "slide"
      }
     },
     "source": [
      "##Part 5: Objects\n",
      "There is a lot of depth to python's objects. \n",
      "\n",
      "They are, for the most part, a lot like objects in other languages. \n",
      "\n",
      "I will show you the basics of making your own."
     ]
    },
    {
     "cell_type": "markdown",
     "metadata": {
      "slideshow": {
       "slide_type": "subslide"
      }
     },
     "source": [
      "The python object declaration looks like the this:"
     ]
    },
    {
     "cell_type": "code",
     "collapsed": false,
     "input": [
      "class Student(object):\n",
      "    \n",
      "    def __init__(self, name, classes):\n",
      "        print \"I'm the constructor!\"\n",
      "        self.name = name\n",
      "        self.classes = classes\n",
      "        \n",
      "    def __str__(self):\n",
      "        output = '%s:'%self.name\n",
      "        for clas in self.classes:\n",
      "            output+=str(clas)\n",
      "            if clas != self.classes[-1]:\n",
      "                output+=', '\n",
      "        return output\n",
      "        \n",
      "    def getName(self):\n",
      "        return self.name"
     ],
     "language": "python",
     "metadata": {
      "slideshow": {
       "slide_type": "-"
      }
     },
     "outputs": [],
     "prompt_number": 38
    },
    {
     "cell_type": "markdown",
     "metadata": {
      "slideshow": {
       "slide_type": "fragment"
      }
     },
     "source": [
      "The first line, `Student(object)`, implies that student inherits from parent class object. \n",
      "\n",
      "All python objects should inheirt from class object. \n",
      "\n",
      "The function `__init__` is the constructor for the object. It is called when the object is created."
     ]
    },
    {
     "cell_type": "code",
     "collapsed": false,
     "input": [
      "me = Student('Sean', ['Physics', 'Computer Science', 'Underwater Basket Weaving'])"
     ],
     "language": "python",
     "metadata": {
      "slideshow": {
       "slide_type": "fragment"
      }
     },
     "outputs": [
      {
       "output_type": "stream",
       "stream": "stdout",
       "text": [
        "I'm the constructor!\n"
       ]
      }
     ],
     "prompt_number": 39
    },
    {
     "cell_type": "markdown",
     "metadata": {
      "slideshow": {
       "slide_type": "subslide"
      }
     },
     "source": [
      "Any function method can be declared this way. \n",
      "\n",
      "Notice the getName function above. Notice that it takes `self` as an argument. \n",
      "\n",
      "This is to acknowledge that this is a class method. \n",
      "\n",
      "It allows the method to access variables attached the function's `self`, the object variables."
     ]
    },
    {
     "cell_type": "code",
     "collapsed": false,
     "input": [
      "print me.getName()"
     ],
     "language": "python",
     "metadata": {
      "slideshow": {
       "slide_type": "fragment"
      }
     },
     "outputs": [
      {
       "output_type": "stream",
       "stream": "stdout",
       "text": [
        "Sean\n"
       ]
      }
     ],
     "prompt_number": 40
    },
    {
     "cell_type": "markdown",
     "metadata": {
      "slideshow": {
       "slide_type": "subslide"
      }
     },
     "source": [
      "In addition to `__init__`, there are many other built-in functions that can be overloaded.\n",
      "\n",
      "I'll showcase the use of the `__str__` method below.  "
     ]
    },
    {
     "cell_type": "code",
     "collapsed": false,
     "input": [
      "print str(me)"
     ],
     "language": "python",
     "metadata": {
      "slideshow": {
       "slide_type": "fragment"
      }
     },
     "outputs": [
      {
       "output_type": "stream",
       "stream": "stdout",
       "text": [
        "Sean:Physics, Computer Science, Underwater Basket Weaving\n"
       ]
      }
     ],
     "prompt_number": 41
    },
    {
     "cell_type": "markdown",
     "metadata": {
      "slideshow": {
       "slide_type": "fragment"
      }
     },
     "source": [
      "In python, everything is public. \n",
      " \n",
      "Since the language is always distributed open source, it makes no sense to lock things off from the user. "
     ]
    },
    {
     "cell_type": "markdown",
     "metadata": {
      "slideshow": {
       "slide_type": "subslide"
      }
     },
     "source": [
      "Python objects have a rich inheritance structure. Below, I'll make a subclass for the Student class above."
     ]
    },
    {
     "cell_type": "code",
     "collapsed": false,
     "input": [
      "class BusinessStudent(Student):\n",
      "    \n",
      "    def __init__(self, name, classes):\n",
      "        super(BusinessStudent, self).__init__(name, classes)\n",
      "        self.busy = False"
     ],
     "language": "python",
     "metadata": {
      "slideshow": {
       "slide_type": "fragment"
      }
     },
     "outputs": [],
     "prompt_number": 42
    },
    {
     "cell_type": "code",
     "collapsed": false,
     "input": [
      "ryan = BusinessStudent('Ryan', ['Econ'])\n",
      "print str(ryan)\n",
      "print ryan.busy"
     ],
     "language": "python",
     "metadata": {
      "slideshow": {
       "slide_type": "fragment"
      }
     },
     "outputs": [
      {
       "output_type": "stream",
       "stream": "stdout",
       "text": [
        "I'm the constructor!\n",
        "Ryan:Econ\n",
        "False\n"
       ]
      }
     ],
     "prompt_number": 43
    },
    {
     "cell_type": "markdown",
     "metadata": {
      "slideshow": {
       "slide_type": "fragment"
      }
     },
     "source": [
      "Notice that I was able to use the `__str__` method in the superclass without defining it in the subclass. \n",
      "\n",
      "The key thing to notice is the call to `super`. \n",
      "\n",
      "Python also supports multiple inheritance, but I won't go into it here."
     ]
    },
    {
     "cell_type": "markdown",
     "metadata": {
      "slideshow": {
       "slide_type": "subslide"
      }
     },
     "source": [
      "###Excercise 5\n",
      "####Answers Below!\n",
      "Write a subclass of Student that has a GPA variable. Include a function `__cmp__` that compares the GPA of two students. For example, if studentA has a higher GPA than studentB, `studentA >studentB` should evaluate to `True`. "
     ]
    },
    {
     "cell_type": "code",
     "collapsed": false,
     "input": [],
     "language": "python",
     "metadata": {},
     "outputs": [],
     "prompt_number": 43
    },
    {
     "cell_type": "markdown",
     "metadata": {
      "slideshow": {
       "slide_type": "slide"
      }
     },
     "source": [
      "##Part 6: Imports and Module Structure\n",
      "\n",
      "The largest structural component of python is the module.\n",
      "\n",
      "We've been cheating a little bit in this iPython notebook, as things behave a little differently. \n",
      "\n",
      "I've included in the directory with this notebook an example python file. \n",
      "\n",
      "I reccomend you take a look at it now; I'll be importing it below. "
     ]
    },
    {
     "cell_type": "code",
     "collapsed": false,
     "input": [
      "import ex\n",
      "ex.exFunc()"
     ],
     "language": "python",
     "metadata": {
      "slideshow": {
       "slide_type": "fragment"
      }
     },
     "outputs": [
      {
       "output_type": "stream",
       "stream": "stdout",
       "text": [
        "I'm the example file!\n",
        "I'm the example function.\n"
       ]
      }
     ],
     "prompt_number": 44
    },
    {
     "cell_type": "markdown",
     "metadata": {
      "slideshow": {
       "slide_type": "fragment"
      }
     },
     "source": [
      "Notice that, the first time you imported from ex, it printed a statement. \n",
      "\n",
      "When a module is imported, the whole module is run first. \n",
      "\n",
      "It is only run the first time it's imported, not any time afterward. "
     ]
    },
    {
     "cell_type": "markdown",
     "metadata": {
      "slideshow": {
       "slide_type": "subslide"
      }
     },
     "source": [
      "Importing is one of the best parts of python. \n",
      "\n",
      "It's possible to import from any module, at any point in a module. \n",
      "\n",
      "You can import a whole module, like I did above, and that gives you access to everything in the **global scope**. \n",
      "\n",
      "For now, the global scope is everything on the top level. \n",
      "\n",
      "Similarly, you can import just a particilar variable or function, like below."
     ]
    },
    {
     "cell_type": "code",
     "collapsed": false,
     "input": [
      "from ex import exFunc\n",
      "exFunc()"
     ],
     "language": "python",
     "metadata": {
      "slideshow": {
       "slide_type": "fragment"
      }
     },
     "outputs": [
      {
       "output_type": "stream",
       "stream": "stdout",
       "text": [
        "I'm the example function.\n"
       ]
      }
     ],
     "prompt_number": 45
    },
    {
     "cell_type": "markdown",
     "metadata": {
      "slideshow": {
       "slide_type": "fragment"
      }
     },
     "source": [
      "You can also rename them, so as to not pollute your local namespace. "
     ]
    },
    {
     "cell_type": "code",
     "collapsed": false,
     "input": [
      "from ex import exFunc as myFunc\n",
      "myFunc()"
     ],
     "language": "python",
     "metadata": {
      "slideshow": {
       "slide_type": "fragment"
      }
     },
     "outputs": [
      {
       "output_type": "stream",
       "stream": "stdout",
       "text": [
        "I'm the example function.\n"
       ]
      }
     ],
     "prompt_number": 46
    },
    {
     "cell_type": "markdown",
     "metadata": {
      "slideshow": {
       "slide_type": "subslide"
      }
     },
     "source": [
      "Python built-in's and installed third party applications can be imported in the same way. "
     ]
    },
    {
     "cell_type": "code",
     "collapsed": false,
     "input": [
      "from time import time #built-in time module\n",
      "import numpy as np #third-party numeric module\n",
      "\n",
      "print time()\n",
      "x = np.array(range(10))\n",
      "print type(x)"
     ],
     "language": "python",
     "metadata": {
      "slideshow": {
       "slide_type": "fragment"
      }
     },
     "outputs": [
      {
       "output_type": "stream",
       "stream": "stdout",
       "text": [
        "1410744294.25\n",
        "<type 'numpy.ndarray'>\n"
       ]
      }
     ],
     "prompt_number": 47
    },
    {
     "cell_type": "markdown",
     "metadata": {
      "slideshow": {
       "slide_type": "subslide"
      }
     },
     "source": [
      "###Excercise 6\n",
      "####Answers at the bottom!\n",
      "Write a function in an external module that calculates the Nth Fibonacci number, where F[0] = 1 and F[1] = 1. You can do it recursively or functionally. Import it and run it below."
     ]
    },
    {
     "cell_type": "code",
     "collapsed": false,
     "input": [],
     "language": "python",
     "metadata": {},
     "outputs": [],
     "prompt_number": 47
    },
    {
     "cell_type": "markdown",
     "metadata": {
      "slideshow": {
       "slide_type": "slide"
      }
     },
     "source": [
      "##Epilogue\n",
      "I hope you enjoyed this tutorial. If you have any questions or comments, email me at smclau2@illinois.edu. I leave you with one of python's best little secrets."
     ]
    },
    {
     "cell_type": "code",
     "collapsed": false,
     "input": [
      "import antigravity"
     ],
     "language": "python",
     "metadata": {
      "slideshow": {
       "slide_type": "fragment"
      }
     },
     "outputs": [],
     "prompt_number": 48
    },
    {
     "cell_type": "markdown",
     "metadata": {
      "slideshow": {
       "slide_type": "skip"
      }
     },
     "source": [
      "-----\n",
      "##Answers"
     ]
    },
    {
     "cell_type": "code",
     "collapsed": false,
     "input": [
      "#Ex. 1\n",
      "n = 4**16-27\n",
      "strN = str(n)\n",
      "#first and last\n",
      "print strN[0], strN[-1]"
     ],
     "language": "python",
     "metadata": {
      "slideshow": {
       "slide_type": "skip"
      }
     },
     "outputs": [
      {
       "output_type": "stream",
       "stream": "stdout",
       "text": [
        "4 9\n"
       ]
      }
     ],
     "prompt_number": 49
    },
    {
     "cell_type": "code",
     "collapsed": false,
     "input": [
      "#Ex.2\n",
      "d = {'a':'alfa', 'b':'bravo', 'c':'charlie', 'd':'delta', 'e':'echo', 'f':'foxtrot',\n",
      "     'g':'golf', 'h':'hotel', 'i':'india', 'j':'juliett', 'k':'kilo', 'l':'lima',\n",
      "     'm':'mike', 'n':'november', 'o':'oscar', 'p':'papa', 'q':'quebec', 'r':'romeo',\n",
      "     's':'sierra', 't':'tango', 'u':'uniform', 'v':'victor', 'w':'whiskey', \n",
      "     'x':'x-ray', 'y':'yankee', 'z':'zulu'}\n",
      "\n",
      "message = 'Hello World'\n",
      "message = message.lower()#dict's in Lowercase\n",
      "for char in message:\n",
      "    if char in d:\n",
      "        print d[char]\n",
      "    else:\n",
      "        print char"
     ],
     "language": "python",
     "metadata": {
      "slideshow": {
       "slide_type": "skip"
      }
     },
     "outputs": [
      {
       "output_type": "stream",
       "stream": "stdout",
       "text": [
        "hotel\n",
        "echo\n",
        "lima\n",
        "lima\n",
        "oscar\n",
        " \n",
        "whiskey\n",
        "oscar\n",
        "romeo\n",
        "lima\n",
        "delta\n"
       ]
      }
     ],
     "prompt_number": 50
    },
    {
     "cell_type": "code",
     "collapsed": false,
     "input": [
      "#Ex. 3\n",
      "nums = []\n",
      "for n in xrange(10**4):\n",
      "    if n%3 ==0 and n%5 ==0:\n",
      "        nums.append(n)\n",
      "print nums[:10], sum(nums)        "
     ],
     "language": "python",
     "metadata": {
      "slideshow": {
       "slide_type": "skip"
      }
     },
     "outputs": [
      {
       "output_type": "stream",
       "stream": "stdout",
       "text": [
        "[0, 15, 30, 45, 60, 75, 90, 105, 120, 135] 3331665\n"
       ]
      }
     ],
     "prompt_number": 51
    },
    {
     "cell_type": "code",
     "collapsed": false,
     "input": [
      "#Ex. 4\n",
      "def fact(N):#recursive\n",
      "    if N==1:\n",
      "        return 1\n",
      "    return N*fact(N-1)\n",
      "\n",
      "def fact_2(N):#procedural\n",
      "    num = 1\n",
      "    while N>1:\n",
      "        num*=N\n",
      "        N-=1\n",
      "    return num\n",
      "\n",
      "print fact(10), fact_2(10)"
     ],
     "language": "python",
     "metadata": {
      "slideshow": {
       "slide_type": "skip"
      }
     },
     "outputs": [
      {
       "output_type": "stream",
       "stream": "stdout",
       "text": [
        "3628800 3628800\n"
       ]
      }
     ],
     "prompt_number": 52
    },
    {
     "cell_type": "code",
     "collapsed": false,
     "input": [
      "#Ex. 5\n",
      "class StudentGPA(Student):\n",
      "    \n",
      "    def __init__(self, name, classes, gpa):\n",
      "        super(StudentGPA, self).__init__(name, classes)\n",
      "        self.gpa = gpa\n",
      "        \n",
      "    def __cmp__(self, other):\n",
      "        #return a neg int if self<other, 0 if equal, pos if greater\n",
      "        if self.gpa == other.gpa:\n",
      "            return 0\n",
      "        return -1 if self.gpa<other.gpa else 1\n",
      "     \n",
      "studentA = StudentGPA('A', [], 4.0)\n",
      "studentB = StudentGPA('B', [], 3.5)\n",
      "\n",
      "print studentA>studentB"
     ],
     "language": "python",
     "metadata": {
      "slideshow": {
       "slide_type": "skip"
      }
     },
     "outputs": [
      {
       "output_type": "stream",
       "stream": "stdout",
       "text": [
        "I'm the constructor!\n",
        "I'm the constructor!\n",
        "True\n"
       ]
      }
     ],
     "prompt_number": 53
    },
    {
     "cell_type": "code",
     "collapsed": false,
     "input": [
      "#Ex. 6\n",
      "#Not writing externally\n",
      "def fib(N):\n",
      "    if N==0 or N==1:\n",
      "        return 1\n",
      "    return fib(N-1) + fib(N-2) #Expensive recursion!\n",
      "\n",
      "def fib_2(N):\n",
      "    N+=1 #this formula defined differently\n",
      "    gold_ratio = 1.61803\n",
      "    from math import sqrt\n",
      "    num = (gold_ratio**N-(1-gold_ratio)**N)\n",
      "    return int(round(num/sqrt(5)))\n",
      "\n",
      "print fib(10), fib_2(10)"
     ],
     "language": "python",
     "metadata": {
      "slideshow": {
       "slide_type": "skip"
      }
     },
     "outputs": [
      {
       "output_type": "stream",
       "stream": "stdout",
       "text": [
        "89 89\n"
       ]
      }
     ],
     "prompt_number": 54
    },
    {
     "cell_type": "markdown",
     "metadata": {
      "slideshow": {
       "slide_type": "slide"
      }
     },
     "source": [
      "##Bonus Part 7: Next Level S#!t\n",
      "So there were a ton of features that I know about that are SO COOL but not super appropriate for a beginner tutorial. \n",
      "\n",
      "This will be a lot more scatter-brained than the ones above."
     ]
    },
    {
     "cell_type": "markdown",
     "metadata": {
      "slideshow": {
       "slide_type": "subslide"
      }
     },
     "source": [
      "###The iPython Notebook\n",
      "You're reading this in an iPython notebook. \n",
      "\n",
      "They are one of the coolest things that I've found in python, and are really becoming popular in the scientific and academic communities. \n",
      "\n",
      "You probably noticed that code is run in python cells. \n",
      "\n",
      "The text cells are in markdown, which is an insanely simple scripting language.\n",
      "\n",
      "iPython notebooks also support Tex-y equations like this one:\n",
      "\n",
      "$$ F(b) - F(A) = \\int_a^b{f(x)dx} $$\n",
      "\n",
      "and this one:\n",
      "\n",
      "$$ P(A|B) = \\frac{P(B|A)P(A)}{P(B)} $$"
     ]
    },
    {
     "cell_type": "markdown",
     "metadata": {
      "slideshow": {
       "slide_type": "subslide"
      }
     },
     "source": [
      "They also support iPython cell magics. \n",
      "\n",
      "I used the timeit magic earlier. Some other favorites are the matplot modifier, the R magic, and the bash magic. "
     ]
    },
    {
     "cell_type": "code",
     "collapsed": false,
     "input": [
      "%%bash\n",
      "echo Im in the terminal!\n",
      "pwd\n",
      "ls"
     ],
     "language": "python",
     "metadata": {
      "slideshow": {
       "slide_type": "fragment"
      }
     },
     "outputs": [
      {
       "output_type": "stream",
       "stream": "stdout",
       "text": [
        "Im in the terminal!\n",
        "/home/mclaughlin6464/Code/PythonTutorial\n",
        "ex.py\n",
        "ex.pyc\n",
        "Python Crash Course.ipynb\n",
        "Python Crash Course Slideshow.ipynb\n",
        "Python Crash Course Slideshow.slides.html\n",
        "recent-grads.csv\n",
        "test.txt\n"
       ]
      }
     ],
     "prompt_number": 55
    },
    {
     "cell_type": "markdown",
     "metadata": {
      "slideshow": {
       "slide_type": "fragment"
      }
     },
     "source": [
      "Use them to make docs for your code or as test boxes for your prototypes."
     ]
    },
    {
     "cell_type": "markdown",
     "metadata": {
      "slideshow": {
       "slide_type": "slide"
      }
     },
     "source": [
      "###Numpy and Matplotlib\n",
      "\n",
      "Numpy and Matplotlib are essential third party python packages. \n",
      "\n",
      "Numpy answers many performance problems python has by using C arrays in the background in its arrays. \n",
      "\n",
      "Take a look at how it's vectorizaiton works. \n",
      "\n",
      "Operations on a list are done on all variables within. "
     ]
    },
    {
     "cell_type": "code",
     "collapsed": false,
     "input": [
      "import numpy as np\n",
      "x = np.array(range(25))\n",
      "print x\n",
      "x+=1 #add 1 to everythin\n",
      "print x\n",
      "x = x**2 #square evertything\n",
      "print x\n",
      "print x.mean(), x.std() #mean and std of list"
     ],
     "language": "python",
     "metadata": {
      "slideshow": {
       "slide_type": "fragment"
      }
     },
     "outputs": [
      {
       "output_type": "stream",
       "stream": "stdout",
       "text": [
        "[ 0  1  2  3  4  5  6  7  8  9 10 11 12 13 14 15 16 17 18 19 20 21 22 23 24]\n",
        "[ 1  2  3  4  5  6  7  8  9 10 11 12 13 14 15 16 17 18 19 20 21 22 23 24 25]\n",
        "[  1   4   9  16  25  36  49  64  81 100 121 144 169 196 225 256 289 324\n",
        " 361 400 441 484 529 576 625]\n",
        "221.0 193.144505487\n"
       ]
      }
     ],
     "prompt_number": 56
    },
    {
     "cell_type": "markdown",
     "metadata": {
      "slideshow": {
       "slide_type": "subslide"
      }
     },
     "source": [
      "matplotlib is a numpy-based plotting interface.\n",
      "\n",
      "It has the same syntax as matlab's matplot interface. \n",
      "\n",
      "The key function is pyplot, which has capabilites to scatter plots, histograms, and images."
     ]
    },
    {
     "cell_type": "code",
     "collapsed": false,
     "input": [
      "from matplotlib import pyplot as plt\n",
      "%matplotlib inline\n",
      "plt.plot(x, color = 'g', linewidth = 2.5, label = 'Data')\n",
      "plt.scatter(range(25),np.sqrt(x), color = 'r', label = 'Orig Points')\n",
      "plt.title('Demo')\n",
      "plt.legend()\n",
      "plt.show()"
     ],
     "language": "python",
     "metadata": {
      "slideshow": {
       "slide_type": "fragment"
      }
     },
     "outputs": [
      {
       "metadata": {},
       "output_type": "display_data",
       "png": "[encoded data removed]",
       "text": [
        "<matplotlib.figure.Figure at 0x5379650>"
       ]
      }
     ],
     "prompt_number": 57
    },
    {
     "cell_type": "markdown",
     "metadata": {
      "slideshow": {
       "slide_type": "slide"
      }
     },
     "source": [
      "###Context Managers\n",
      " Context managers (keyword `with`) allow you to enter an operation with a defined behavior, and exit safely. \n",
      " \n",
      " The main use for these is safe file I/O. \n",
      " \n",
      " Below I'll read in a simple file and print it's conents. \n",
      " \n",
      " This handles all the safeguards for opening and closing the file. "
     ]
    },
    {
     "cell_type": "code",
     "collapsed": false,
     "input": [
      "with open('test.txt') as f:\n",
      "    for line in f:\n",
      "        print line,"
     ],
     "language": "python",
     "metadata": {
      "slideshow": {
       "slide_type": "fragment"
      }
     },
     "outputs": [
      {
       "output_type": "stream",
       "stream": "stdout",
       "text": [
        "I'm a line of text.\n",
        "I'm the last line of text!\n"
       ]
      }
     ],
     "prompt_number": 58
    },
    {
     "cell_type": "markdown",
     "metadata": {
      "slideshow": {
       "slide_type": "slide"
      }
     },
     "source": [
      "###Itertools\n",
      "Itertools is a built in python library that has interesting iterator objects. \n",
      "\n",
      "My two favorites are `izip` and `cycle`. \n",
      "\n",
      "`zip` takes multiple lists and combines them to one long list of tuples. \n",
      "\n",
      "`izip` is an iterator version, and is way better (and faster). \n",
      "\n",
      "A `cycle` is an iterator that starts back at the begining after reaching the end."
     ]
    },
    {
     "cell_type": "code",
     "collapsed": false,
     "input": [
      "from itertools import izip, cycle\n",
      "colors = cycle(['b','g','r'])\n",
      "nums = range(10)\n",
      "for n, color in izip(nums, colors):\n",
      "    print n, color"
     ],
     "language": "python",
     "metadata": {
      "slideshow": {
       "slide_type": "fragment"
      }
     },
     "outputs": [
      {
       "output_type": "stream",
       "stream": "stdout",
       "text": [
        "0 b\n",
        "1 g\n",
        "2 r\n",
        "3 b\n",
        "4 g\n",
        "5 r\n",
        "6 b\n",
        "7 g\n",
        "8 r\n",
        "9 b\n"
       ]
      }
     ],
     "prompt_number": 59
    },
    {
     "cell_type": "markdown",
     "metadata": {
      "slideshow": {
       "slide_type": "slide"
      }
     },
     "source": [
      "###Collections\n",
      "Python's built in collections are additional built in container types. \n",
      "\n",
      "Some of them are kinda niche, but super useful when you know of them. \n",
      "\n",
      "Let's start with namedtuple. \n",
      "\n",
      "The problem with tuples is that they hold data of different types, but are only identified by an index. \n",
      "\n",
      "No longer!"
     ]
    },
    {
     "cell_type": "code",
     "collapsed": false,
     "input": [
      "from collections import namedtuple\n",
      "\n",
      "Cartesian = namedtuple('Cartesian', ['x','y','z'])\n",
      "\n",
      "point = Cartesian(1,2,3)\n",
      "print point\n",
      "print getattr(point, 'y')"
     ],
     "language": "python",
     "metadata": {
      "slideshow": {
       "slide_type": "fragment"
      }
     },
     "outputs": [
      {
       "output_type": "stream",
       "stream": "stdout",
       "text": [
        "Cartesian(x=1, y=2, z=3)\n",
        "2\n"
       ]
      }
     ],
     "prompt_number": 60
    },
    {
     "cell_type": "markdown",
     "metadata": {
      "slideshow": {
       "slide_type": "fragment"
      }
     },
     "source": [
      "You may think this makes tuples more like dicts, and you're right. \n",
      "\n",
      "They're still not mutable though, and can still be hashed and all the rest. Just now, they're easily readable!"
     ]
    },
    {
     "cell_type": "markdown",
     "metadata": {
      "slideshow": {
       "slide_type": "subslide"
      }
     },
     "source": [
      "defaultdict and Counter are 2 sides of the same coin. \n",
      "\n",
      "Wouldn't it be great if the dictionary new the behavior to use when the key wasn't in a dictionary? \n",
      "\n",
      "That's how a default dict works. \n",
      "\n",
      "You give it a defined default value for when a key isn't in a dictionary, and it rolls from there. "
     ]
    },
    {
     "cell_type": "code",
     "collapsed": false,
     "input": [
      "colors = ['red', 'yellow', 'cyan', 'red', 'green', 'green', 'blue', 'red', 'black']\n",
      "from collections import defaultdict\n",
      "colorDict = defaultdict(int)\n",
      "for color in colors:\n",
      "    colorDict[color]+=1\n",
      "print colorDict\n",
      "print colorDict['red']"
     ],
     "language": "python",
     "metadata": {
      "slideshow": {
       "slide_type": "fragment"
      }
     },
     "outputs": [
      {
       "output_type": "stream",
       "stream": "stdout",
       "text": [
        "defaultdict(<type 'int'>, {'blue': 1, 'yellow': 1, 'green': 2, 'cyan': 1, 'red': 3, 'black': 1})\n",
        "3\n"
       ]
      }
     ],
     "prompt_number": 61
    },
    {
     "cell_type": "markdown",
     "metadata": {
      "slideshow": {
       "slide_type": "subslide"
      }
     },
     "source": [
      "Counters are a subclass of defaultdicts, used just for counting. \n",
      "\n",
      "That means they are like defaultdicts set to 0. \n",
      "\n",
      "The added advantage is they have built in counting functions. \n",
      "\n",
      "For example, the constructor counts occurences in an iterable. \n",
      "\n",
      "Watch how counters simplify the above code."
     ]
    },
    {
     "cell_type": "code",
     "collapsed": false,
     "input": [
      "from collections import Counter\n",
      "colorDict = Counter(colors)\n",
      "print colorDict\n",
      "print colorDict['red']"
     ],
     "language": "python",
     "metadata": {
      "slideshow": {
       "slide_type": "fragment"
      }
     },
     "outputs": [
      {
       "output_type": "stream",
       "stream": "stdout",
       "text": [
        "Counter({'red': 3, 'green': 2, 'blue': 1, 'yellow': 1, 'cyan': 1, 'black': 1})\n",
        "3\n"
       ]
      }
     ],
     "prompt_number": 62
    },
    {
     "cell_type": "markdown",
     "metadata": {
      "slideshow": {
       "slide_type": "slide"
      }
     },
     "source": [
      "Ok for real that's all I've got for now. \n",
      "\n",
      "Below I have some real code I wrote this weekend, using data from [this fivethirtyeight story](http://fivethirtyeight.com/features/the-economic-guide-to-picking-a-college-major/). I\n",
      "\n",
      "t shows the median income of college majors v. their popularity with women. \n",
      "\n",
      "I use a lot of the tricks I just showed you in it. Feel free to play with it!"
     ]
    },
    {
     "cell_type": "code",
     "collapsed": false,
     "input": [
      "filename = 'recent-grads.csv'\n",
      "delim = ','\n",
      "from csv import DictReader\n",
      "from matplotlib import pyplot as plt\n",
      "from itertools import izip,cycle\n",
      "from scipy.stats import linregress\n",
      "import numpy as np\n",
      "from IPython.core.pylabtools import figsize\n",
      "figsize(14,12)\n",
      "womenRatio = []\n",
      "medPay = []\n",
      "maj_cat = []\n",
      "majors = []\n",
      "#get the data\n",
      "with open(filename) as csvfile:\n",
      "    reader = DictReader(csvfile, delimiter = delim)\n",
      "    for line in reader:\n",
      "        womenRatio.append(float(line['ShareWomen']))\n",
      "        medPay.append(float(line['Median']))\n",
      "        maj_cat.append(line['Major_category'])\n",
      "        majors.append(line['Major'])\n",
      "\n",
      "colors = cycle(['b','g','r','c','m','y','k'])\n",
      "colorDict = {}\n",
      "#map majors to colors\n",
      "for maj, color in izip(set(maj_cat), colors): \n",
      "    colorDict[maj] = color\n",
      "#scatter plot them\n",
      "for rat, pay, cat in izip(womenRatio, medPay, maj_cat):\n",
      "    plt.scatter(rat, pay, color = colorDict[cat], label = cat)\n",
      "\n",
      "plt.xlim((min(womenRatio)-.05, max(womenRatio)+.05))\n",
      "#fit a line to the data\n",
      "m, b, r,p, err = linregress(womenRatio, medPay)\n",
      "plt.title('Correlation: %.3f'%(abs(r)))\n",
      "plt.plot(np.linspace(0,1), m*np.linspace(0,1)+b)\n",
      "plt.ylabel('Median Earning in Dollars')\n",
      "plt.xlabel('Ratio of Women in Major')\n",
      "plt.show()"
     ],
     "language": "python",
     "metadata": {
      "slideshow": {
       "slide_type": "subslide"
      }
     },
     "outputs": [
      {
       "metadata": {},
       "output_type": "display_data",
       "png": "[encoded data removed]",
       "text": [
        "<matplotlib.figure.Figure at 0x5dc6ad0>"
       ]
      }
     ],
     "prompt_number": 64
    },
    {
     "cell_type": "code",
     "collapsed": false,
     "input": [],
     "language": "python",
     "metadata": {},
     "outputs": []
    }
   ],
   "metadata": {}
  }
 ]
}